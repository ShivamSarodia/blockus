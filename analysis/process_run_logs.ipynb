{
 "cells": [
  {
   "cell_type": "code",
   "execution_count": 1,
   "metadata": {},
   "outputs": [],
   "source": [
    "import json\n",
    "import numpy as np\n",
    "from matplotlib import pyplot as plt"
   ]
  },
  {
   "cell_type": "code",
   "execution_count": 2,
   "metadata": {},
   "outputs": [],
   "source": [
    "# PATH = \"data/2024-11-09_11-10-06-algific\"\n",
    "# PATH = \"data/2024-11-09_13-11-13-premotion\"\n",
    "# PATH = \"data/2024-11-09_13-11-13-premotion/\"\n",
    "# PATH = \"data/2024-11-10_16-28-30-chemotropic\"  # With Numpy 1.x\n",
    "# PATH = \"data/2024-11-10_16-38-20-nephratonia\"  # With Numpy 2.x\n",
    "# PATH = \"data/2024-11-10_23-09-26-brachyphyllum\"  # With 100 rollouts\n",
    "# PATH = \"data/2024-11-11_10-48-13-microsporidia/\"  # With 100 rollouts\n",
    "# PATH = \"data/2024-11-11_10-50-19-perchloride/\" # with 500 rollouts\n",
    "# PATH = \"data/2024-11-11_11-55-02-turriculate/\" # with fast rollouts 20% of the time\n",
    "PATH = \"data/2024-11-11_12-44-39-cephalopterus/\""
   ]
  },
  {
   "cell_type": "code",
   "execution_count": 3,
   "metadata": {},
   "outputs": [],
   "source": [
    "# data/1731122195-monosiphonous - My first long run\n",
    "# data/2024-11-09_11-10-06-algific - Ran with large cache\n",
    "# data/2024-11-09_13-11-13-premotion - Ran with no cache\n",
    "\n",
    "events = []\n",
    "with open(f\"../{PATH}/logs.txt\") as f:\n",
    "    logs = f.readlines()\n",
    "    for line in logs:\n",
    "        # Skip lines that are not events.\n",
    "        if not line.startswith(\"event | \"):\n",
    "            continue\n",
    "\n",
    "        _, timestamp, event, params = line.strip().split(\" | \")\n",
    "        events.append((float(timestamp), event, json.loads(params)))\n",
    "\n",
    "# Sort events by timestamp.\n",
    "events.sort(key=lambda x: x[0])\n",
    "\n",
    "# Adjust timestamps to start at 0.\n",
    "start_time = events[0][0]\n",
    "events = [\n",
    "    (timestamp - start_time, event, params)\n",
    "    for timestamp, event, params in events\n",
    "]\n"
   ]
  },
  {
   "cell_type": "code",
   "execution_count": null,
   "metadata": {},
   "outputs": [],
   "source": [
    "timestamps = [event[0] for event in events if event[1] == \"made_move\"]\n",
    "cumulative_made_moves = list(range(1, len(timestamps) + 1))\n",
    "\n",
    "plt.figure(figsize=(10, 6))\n",
    "plt.plot(timestamps, cumulative_made_moves, label='Cumulative Made Moves')\n",
    "plt.xlabel('Time (s)')\n",
    "plt.ylabel('Cumulative Made Moves')\n",
    "plt.title('Cumulative Number of Made Move Events Over Time')\n",
    "plt.legend()\n",
    "plt.grid(True)\n",
    "plt.xlim(left=0, right=max(e[0] for e in events))\n",
    "plt.show()\n",
    "\n",
    "print(f\"Time to first move: {min(timestamps)}\")"
   ]
  },
  {
   "cell_type": "code",
   "execution_count": null,
   "metadata": {},
   "outputs": [],
   "source": [
    "print(\"Number of moves\", max(cumulative_made_moves))"
   ]
  },
  {
   "cell_type": "code",
   "execution_count": null,
   "metadata": {},
   "outputs": [],
   "source": [
    "moves_per_second = []\n",
    "\n",
    "moves_made = 0\n",
    "for event in events:\n",
    "    if event[1] != \"made_move\":\n",
    "        continue\n",
    "    moves_made += 1\n",
    "\n",
    "    moves_per_second.append(moves_made / event[0])\n",
    "\n",
    "plt.figure(figsize=(10, 6))\n",
    "plt.plot([event[0] for event in events if event[1] == \"made_move\"], moves_per_second, label='Moves Per Second')\n",
    "plt.xlabel('Time (s)')\n",
    "plt.ylabel('Moves Per Second')\n",
    "plt.title('Moves Per Second Over Time')\n",
    "plt.legend()\n",
    "plt.grid(True)\n",
    "plt.xlim(left=0, right=max(e[0] for e in events))\n",
    "plt.show()\n",
    "\n",
    "final_moves_per_sec = max(\n",
    "    moves_per_second[len(moves_per_second) // 2:]\n",
    ")\n",
    "print(\"Maximal moves per second during latter half:\", final_moves_per_sec)"
   ]
  },
  {
   "cell_type": "code",
   "execution_count": null,
   "metadata": {},
   "outputs": [],
   "source": [
    "total_duration = 0\n",
    "total_evaluated = 0\n",
    "for event in events:\n",
    "    if event[1] == \"gpu_evaluation\":\n",
    "        total_duration += event[2][\"duration\"]\n",
    "        total_evaluated += event[2][\"batch_size\"]\n",
    "\n",
    "# GPU bottleneck. Closer to 1 means that the GPU is the bottleneck because the\n",
    "# moves per second we actually got is close to the theoretical maximum based on\n",
    "# GPU evaluation speed.\n",
    "# \n",
    "# This won't work when using caching.\n",
    "print(\"speed relative to if GPU was fully utilized:\", final_moves_per_sec / ((total_evaluated / total_duration) / 500))"
   ]
  },
  {
   "cell_type": "code",
   "execution_count": null,
   "metadata": {},
   "outputs": [],
   "source": [
    "# What percent of time is the GPU thread being used?\n",
    "\n",
    "evaluations = [event[0] for event in events if event[1] == \"gpu_evaluation\"]\n",
    "print(\"percent GPU utilization:\", total_duration / (max(evaluations) - min(evaluations)))"
   ]
  },
  {
   "cell_type": "code",
   "execution_count": null,
   "metadata": {},
   "outputs": [],
   "source": [
    "# What is the average batch size?\n",
    "\n",
    "batch_sizes = [event[2][\"batch_size\"] for event in events if event[1] == \"gpu_evaluation\"]\n",
    "sum(batch_sizes) / len(batch_sizes)"
   ]
  },
  {
   "cell_type": "code",
   "execution_count": null,
   "metadata": {},
   "outputs": [],
   "source": [
    "games_per_second = []\n",
    "\n",
    "games_finished = 0\n",
    "for event in events:\n",
    "    if event[1] != \"game_end\":\n",
    "        continue\n",
    "    games_finished += 1\n",
    "\n",
    "    games_per_second.append(games_finished / event[0])\n",
    "\n",
    "plt.figure(figsize=(10, 6))\n",
    "plt.plot([event[0] for event in events if event[1] == \"game_end\"], games_per_second, label='Games Per Second')\n",
    "plt.xlabel('Time (s)')\n",
    "plt.ylabel('Games Per Second')\n",
    "plt.title('Games Per Second Over Time')\n",
    "plt.legend()\n",
    "plt.grid(True)\n",
    "plt.xlim(left=0, right=max(e[0] for e in events))\n",
    "plt.show()"
   ]
  },
  {
   "cell_type": "code",
   "execution_count": null,
   "metadata": {},
   "outputs": [],
   "source": [
    "games_finished = 0\n",
    "games_finished_counts = []\n",
    "for event in events:\n",
    "    if event[1] != \"game_end\":\n",
    "        continue\n",
    "    games_finished += 1\n",
    "    games_finished_counts.append(games_finished)\n",
    "\n",
    "plt.figure(figsize=(10, 6))\n",
    "plt.plot([event[0] for event in events if event[1] == \"game_end\"], games_finished_counts, label='Games Completed')\n",
    "plt.xlabel('Time (s)')\n",
    "plt.ylabel('Games')\n",
    "plt.title('Games Over Time')\n",
    "plt.legend()\n",
    "plt.grid(True)\n",
    "plt.xlim(left=0, right=max(e[0] for e in events))\n",
    "plt.show()"
   ]
  },
  {
   "cell_type": "code",
   "execution_count": 12,
   "metadata": {},
   "outputs": [],
   "source": [
    "import scipy.stats"
   ]
  },
  {
   "cell_type": "code",
   "execution_count": null,
   "metadata": {},
   "outputs": [],
   "source": [
    "# Prepare the data for linear regression\n",
    "x = [event[0] for event in events if event[1] == \"game_end\"][:7000]\n",
    "y = games_finished_counts[:7000]\n",
    "\n",
    "# Perform linear regression\n",
    "slope, intercept, r_value, p_value, std_err = scipy.stats.linregress(x, y)\n",
    "\n",
    "# Print the results\n",
    "print(f\"Slope: {slope}\")\n",
    "print(f\"Intercept: {intercept}\")\n",
    "print(f\"R-squared: {r_value**2}\")\n",
    "\n",
    "# Plot the regression line\n",
    "plt.figure(figsize=(10, 6))\n",
    "plt.plot(x, y, 'o', label='Original data', markersize=1)  # Made the dots smaller by reducing markersize\n",
    "plt.plot(x, [slope * xi + intercept for xi in x], 'r', label='Fitted line')\n",
    "plt.xlabel('Time (s)')\n",
    "plt.ylabel('Games Finished')\n",
    "plt.title('Linear Regression of Games Finished Over Time')\n",
    "plt.legend()\n",
    "plt.grid(True)\n",
    "plt.show()"
   ]
  },
  {
   "cell_type": "code",
   "execution_count": null,
   "metadata": {},
   "outputs": [],
   "source": [
    "\n",
    "# Prepare the data for linear regression\n",
    "x_made_move = [event[0] for event in events if event[1] == \"made_move\"][:18]\n",
    "y_made_move = [i for i, event in enumerate(events) if event[1] == \"made_move\"]\n",
    "\n",
    "# Perform linear regression\n",
    "slope_made_move, intercept_made_move, r_value_made_move, p_value_made_move, std_err_made_move = scipy.stats.linregress(x_made_move, y_made_move)\n",
    "\n",
    "# Print the results\n",
    "print(f\"Slope: {slope_made_move}\")\n",
    "print(f\"Intercept: {intercept_made_move}\")\n",
    "print(f\"R-squared: {r_value_made_move**2}\")\n",
    "\n",
    "# Plot the regression line\n",
    "plt.figure(figsize=(10, 6))\n",
    "plt.plot(x_made_move, y_made_move, 'o', label='Original data', markersize=1)  # Made the dots smaller by reducing markersize\n",
    "plt.plot(x_made_move, [slope_made_move * xi + intercept_made_move for xi in x_made_move], 'r', label='Fitted line')\n",
    "plt.xlabel('Time (s)')\n",
    "plt.ylabel('Moves Made')\n",
    "plt.title('Linear Regression of Moves Made Over Time')\n",
    "plt.legend()\n",
    "plt.grid(True)\n",
    "plt.show()\n",
    "\n"
   ]
  },
  {
   "cell_type": "code",
   "execution_count": null,
   "metadata": {},
   "outputs": [],
   "source": []
  }
 ],
 "metadata": {
  "kernelspec": {
   "display_name": "Python 3",
   "language": "python",
   "name": "python3"
  },
  "language_info": {
   "codemirror_mode": {
    "name": "ipython",
    "version": 3
   },
   "file_extension": ".py",
   "mimetype": "text/x-python",
   "name": "python",
   "nbconvert_exporter": "python",
   "pygments_lexer": "ipython3",
   "version": "3.11.3"
  }
 },
 "nbformat": 4,
 "nbformat_minor": 2
}
