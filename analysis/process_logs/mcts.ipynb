{
 "cells": [
  {
   "cell_type": "code",
   "execution_count": 89,
   "metadata": {},
   "outputs": [],
   "source": [
    "import sys\n",
    "import os \n",
    "\n",
    "os.environ[\"CONFIG_PATHS\"] = \"../../configs/self_play.yaml\"\n",
    "os.environ[\"CONFIG_OVERRIDES\"] = 'game.moves_directory=\"../../data/moves_10\"'\n",
    "sys.path.append(\"../../src\")\n",
    "\n",
    "import matplotlib.pyplot as plt\n",
    "import scipy.stats\n",
    "import numpy as np\n",
    "import torch\n",
    "import glob\n",
    "\n",
    "from neural_net import NeuralNet\n",
    "from configuration import config, moves_data\n",
    "from analysis import load_events, filter_events\n",
    "from display import Display\n",
    "import player_pov_helpers\n",
    "from training.load_games import load_games_new"
   ]
  },
  {
   "cell_type": "code",
   "execution_count": 2,
   "metadata": {},
   "outputs": [],
   "source": [
    "MOVES = moves_data()"
   ]
  },
  {
   "cell_type": "code",
   "execution_count": 3,
   "metadata": {},
   "outputs": [],
   "source": [
    "def softmax(x):\n",
    "    e_x = np.exp(x - np.max(x))\n",
    "    return e_x / e_x.sum()"
   ]
  },
  {
   "cell_type": "code",
   "execution_count": 88,
   "metadata": {},
   "outputs": [
    {
     "name": "stdout",
     "output_type": "stream",
     "text": [
      "Start time: 1733389160.453887\n"
     ]
    }
   ],
   "source": [
    "events = load_events(max(glob.glob(\"../../data/2024-12-05_00-58-47-arena-for-one-vs-two-with-temp-0.3-and-randoms/logs_*.txt\")))"
   ]
  },
  {
   "cell_type": "code",
   "execution_count": null,
   "metadata": {},
   "outputs": [],
   "source": [
    "for event in events:\n",
    "    if event.name == \"game_end\":\n",
    "        print(\"Completed a game.\")"
   ]
  },
  {
   "cell_type": "code",
   "execution_count": null,
   "metadata": {},
   "outputs": [],
   "source": [
    "for event in events:\n",
    "    if event.name == \"loaded_model\":\n",
    "        print(event.params[\"model_name\"])"
   ]
  },
  {
   "cell_type": "code",
   "execution_count": 7,
   "metadata": {},
   "outputs": [],
   "source": [
    "mcts_reports = [e.params for e in filter_events(events, \"mcts_report\")]\n",
    "ucb_reports = [e.params for e in filter_events(events, \"ucb_report\")]"
   ]
  },
  {
   "cell_type": "code",
   "execution_count": 8,
   "metadata": {},
   "outputs": [],
   "source": [
    "target_count = 400\n",
    "\n",
    "count = 0\n",
    "for i, report in enumerate(ucb_reports):\n",
    "    if np.sum(np.array(report[\"board\"])) == 0:\n",
    "        if count == target_count:\n",
    "            break\n",
    "        count += 1\n",
    "\n",
    "report_index = i\n",
    "\n",
    "report = ucb_reports[report_index]"
   ]
  },
  {
   "cell_type": "code",
   "execution_count": 9,
   "metadata": {},
   "outputs": [],
   "source": [
    "report = mcts_reports[52]"
   ]
  },
  {
   "cell_type": "code",
   "execution_count": null,
   "metadata": {},
   "outputs": [],
   "source": [
    "board = np.array(report[\"board\"])\n",
    "children_visit_counts = np.array(report[\"children_visit_counts\"])\n",
    "children_value_sums = np.array(report[\"children_value_sums\"])\n",
    "children_priors = np.array(report[\"children_priors\"])\n",
    "array_index_to_move_index = np.array(report[\"array_index_to_move_index\"])\n",
    "values = np.array(report[\"values\"])\n",
    "player = report[\"player\"]\n",
    "\n",
    "Display(board, MOVES[\"new_occupieds\"][array_index_to_move_index[np.argmax(children_visit_counts)]]).show()\n",
    "print(player)\n",
    "print(values)\n",
    "print(np.sum(board, axis=(1,2)))"
   ]
  },
  {
   "cell_type": "code",
   "execution_count": null,
   "metadata": {},
   "outputs": [],
   "source": [
    "values_history = []\n",
    "for report in mcts_reports[40:62]:\n",
    "    values_history.append(np.array(report[\"values\"]))\n",
    "values_history = np.array(values_history)\n",
    "\n",
    "plt.figure(figsize=(10, 6))\n",
    "for i in range(len(values_history[0])):\n",
    "    plt.plot(range(len(values_history)), values_history[:, i], label=f'Value {i}')\n",
    "plt.xlabel('Time Step')\n",
    "plt.ylabel('Value')\n",
    "plt.title('Values History Over Time')\n",
    "plt.legend()\n",
    "plt.grid(True, alpha=0.3)\n",
    "plt.show()\n"
   ]
  },
  {
   "cell_type": "code",
   "execution_count": null,
   "metadata": {},
   "outputs": [],
   "source": [
    "plt.figure(figsize=(10, 6))\n",
    "plt.bar(range(len(children_visit_counts)), children_visit_counts, color='g')\n",
    "plt.xlabel('Move Index')\n",
    "plt.ylabel('Visit Counts')\n",
    "plt.title('Bar Chart of Children Visit Counts')\n",
    "plt.xticks(ticks=range(0, len(children_visit_counts), max(1, len(children_visit_counts)//10)))\n",
    "plt.grid(axis='x', linestyle='--', alpha=0.7)\n",
    "plt.show()\n",
    "\n",
    "sum(children_visit_counts)"
   ]
  },
  {
   "cell_type": "code",
   "execution_count": null,
   "metadata": {},
   "outputs": [],
   "source": [
    "exploitation_scores = np.divide(\n",
    "    np.array(children_value_sums[player]),\n",
    "    np.array(children_visit_counts),\n",
    "    where=children_visit_counts > 0\n",
    ")\n",
    "exploitation_scores[children_visit_counts <= 0] = values[player]\n",
    "\n",
    "sqrt_total_visit_count = np.sqrt(np.sum(children_visit_counts) + 1)\n",
    "exploration_scores = 1.4 * np.array(children_priors) * sqrt_total_visit_count / (1 + np.array(children_visit_counts))\n",
    "\n",
    "# Create a stacked bar chart\n",
    "plt.figure(figsize=(10, 6))\n",
    "indices = range(len(exploitation_scores))\n",
    "plt.bar(indices, exploitation_scores, label='Exploitation Scores', color='b')\n",
    "plt.bar(indices, exploration_scores, bottom=exploitation_scores, label='Exploration Scores', color='r')\n",
    "\n",
    "plt.xlabel('Move Index')\n",
    "plt.ylabel('Scores')\n",
    "plt.title('Stacked Bar Chart of Exploitation and Exploration Scores')\n",
    "plt.xticks(ticks=range(0, len(exploitation_scores), max(1, len(exploitation_scores)//10)))\n",
    "plt.grid(axis='x', linestyle='--', alpha=0.7)\n",
    "plt.legend()\n",
    "plt.show()\n"
   ]
  },
  {
   "cell_type": "code",
   "execution_count": null,
   "metadata": {},
   "outputs": [],
   "source": [
    "plt.figure(figsize=(10, 6))\n",
    "bottom = np.zeros(len(children_value_sums[0]))\n",
    "for p in range(4):\n",
    "    average_value_sums = np.array(children_value_sums[p]) / (np.array(children_visit_counts) + 1e-9)  # Avoid division by zero\n",
    "    plt.bar(range(len(average_value_sums)), average_value_sums, bottom=bottom, alpha=0.5, label=f'Player {p}')\n",
    "    bottom += average_value_sums\n",
    "plt.xlabel('Move Index')\n",
    "plt.ylabel('Average Value Sums')\n",
    "plt.title('Stacked Bar Chart of Average Value Sums by Player')\n",
    "plt.xticks(ticks=range(0, len(average_value_sums), max(1, len(average_value_sums)//10)))\n",
    "plt.grid(axis='x', linestyle='--', alpha=0.7)\n",
    "plt.legend()\n",
    "plt.show()\n",
    "\n",
    "print(values)\n",
    "print(player)"
   ]
  },
  {
   "cell_type": "code",
   "execution_count": null,
   "metadata": {},
   "outputs": [],
   "source": [
    "plt.figure(figsize=(10, 6))\n",
    "plt.bar(range(len(children_priors)), children_priors, color='c')\n",
    "plt.xlabel('Move Index')\n",
    "plt.ylabel('Children Prior')\n",
    "plt.title('Bar Chart of Children Prior')\n",
    "plt.xticks(ticks=range(0, len(children_priors), max(1, len(children_priors)//10)))\n",
    "plt.grid(axis='x', linestyle='--', alpha=0.7)\n",
    "plt.show()"
   ]
  },
  {
   "cell_type": "code",
   "execution_count": null,
   "metadata": {},
   "outputs": [],
   "source": [
    "model = NeuralNet(config()[\"networks\"][\"default\"])\n",
    "# model.load_state_dict(torch.load(\"../../data/2024-11-19_08-38-28-extracted/models/2024-11-20_09-34-23_478500.pt\", weights_only=True))\n",
    "# model.load_state_dict(torch.load(\"../../data/2024-11-20_17-29-54-solitude/models/2024-11-20_08-24-43_975055.pt\", weights_only=True))\n",
    "# model.load_state_dict(torch.load(\"../../data/2024-11-20_14-10-24-survival/models/2024-11-20_02-24-48_055438_s105769.pt\", weights_only=True))\n",
    "# model.load_state_dict(torch.load(\"../../data/2024-11-20_14-10-24-survival/models/2024-11-20_09-34-23_478500_s313486.pt\", weights_only=True))\n",
    "model.load_state_dict(torch.load(\"../../data/2024-11-22_00-28-28-overbragging/models/2024-11-22_09-47-50_646610.pt\", weights_only=True))\n",
    "\n",
    "values_logits, policies_logits = model(torch.Tensor(\n",
    "    player_pov_helpers.occupancies_to_player_pov(board, player)\n",
    ").unsqueeze(0))\n",
    "\n",
    "values_logits = values_logits[0].detach().numpy()\n",
    "policy_logits = policies_logits[0].detach().numpy()\n",
    "\n",
    "player_pov_values = player_pov_helpers.values_to_player_pov(\n",
    "    softmax(values_logits),\n",
    "    -player,\n",
    ")\n",
    "policy = softmax(policy_logits[\n",
    "    player_pov_helpers.moves_indices_to_player_pov(\n",
    "        array_index_to_move_index,\n",
    "        player\n",
    "    )\n",
    "])\n",
    "\n",
    "plt.figure(figsize=(10, 6))\n",
    "plt.bar(range(len(policy)), policy, color='c')\n",
    "plt.xlabel('Move Index')\n",
    "plt.ylabel('Policy')\n",
    "plt.title('Bar Chart of Network Policy')\n",
    "plt.xticks(ticks=range(0, len(policy), max(1, len(policy)//10)))\n",
    "plt.grid(axis='x', linestyle='--', alpha=0.7)\n",
    "plt.show()\n",
    "\n",
    "print(values)"
   ]
  },
  {
   "cell_type": "code",
   "execution_count": null,
   "metadata": {},
   "outputs": [],
   "source": [
    "top_10_indices = np.argsort(children_priors)[-10:][::-1]\n",
    "for i in top_10_indices:\n",
    "    print(i, np.sum(MOVES[\"new_occupieds\"][i]))"
   ]
  },
  {
   "cell_type": "code",
   "execution_count": 4,
   "metadata": {},
   "outputs": [],
   "source": [
    "import glob\n",
    "\n",
    "directory_with_temp_one = \"/Users/shivamsarodia/Dev/blockus/data/2024-12-04_22-41-02-arena-for-sampling-ratio-one-v-two-self-play-generated\"\n",
    "directory_with_randoms = \"/Users/shivamsarodia/Dev/blockus/data/2024-12-05_00-58-47-arena-for-one-vs-two-with-temp-0.3-and-randoms\"\n",
    "\n",
    "temp_one_gamedata = load_games_new(glob.glob(directory_with_temp_one + \"/games/*.npz\"))\n",
    "randoms_gamedata = load_games_new(glob.glob(directory_with_randoms + \"/games/*.npz\"))"
   ]
  },
  {
   "cell_type": "code",
   "execution_count": 42,
   "metadata": {},
   "outputs": [
    {
     "name": "stdout",
     "output_type": "stream",
     "text": [
      "done\n"
     ]
    }
   ],
   "source": [
    "ratio_one_model_path = \"/Users/shivamsarodia/Dev/blockus/data/2024-11-23_00-37-50-doublehandedness/models/000652863.pt\"\n",
    "ratio_two_model_path = \"/Users/shivamsarodia/Dev/blockus/data/2024-12-04_00-53-48-self-play-for-sampling-ratio-two/models/000650000.pt\"\n",
    "\n",
    "ratio_one_model = NeuralNet(config()[\"networks\"][\"default\"])\n",
    "ratio_one_model.load_state_dict(torch.load(ratio_one_model_path, weights_only=True))\n",
    "ratio_one_model.to(\"mps\")\n",
    "ratio_one_model.eval()\n",
    "\n",
    "ratio_two_model = NeuralNet(config()[\"networks\"][\"default\"])\n",
    "ratio_two_model.load_state_dict(torch.load(ratio_two_model_path, weights_only=True))\n",
    "ratio_two_model.to(\"mps\")\n",
    "ratio_two_model.eval()\n",
    "\n",
    "print(\"done\")"
   ]
  },
  {
   "cell_type": "code",
   "execution_count": 52,
   "metadata": {},
   "outputs": [
    {
     "name": "stdout",
     "output_type": "stream",
     "text": [
      "ratio_one_model randoms_gamedata values 0.68205\n",
      "ratio_one_model randoms_gamedata policies 0.6298833333333334\n",
      "ratio_one_model temp_one_gamedata values 0.6062249116290216\n",
      "ratio_one_model temp_one_gamedata policies 0.6631118566892337\n",
      "ratio_two_model randoms_gamedata values 0.72475\n",
      "ratio_two_model randoms_gamedata policies 0.6440333333333333\n",
      "ratio_two_model temp_one_gamedata values 0.630100053921275\n",
      "ratio_two_model temp_one_gamedata policies 0.6928284704331675\n"
     ]
    }
   ],
   "source": [
    "for model_name in [\"ratio_one_model\", \"ratio_two_model\"]:\n",
    "    for gamedata_name in [\"randoms_gamedata\", \"temp_one_gamedata\"]:\n",
    "        for gamedata_field in [\"values\", \"policies\"]:\n",
    "            gamedata = eval(gamedata_name)\n",
    "            model = eval(model_name)\n",
    "\n",
    "            index = {\n",
    "                \"values\": 0,\n",
    "                \"policies\": 1,\n",
    "            }[gamedata_field]\n",
    "\n",
    "            # Storing policy logits uses way too much memory\n",
    "            with torch.inference_mode():\n",
    "                pred_logits = model(torch.Tensor(gamedata[\"boards\"][:60000]).to(\"mps\"))[index]\n",
    "                # pred_policy_logits = model(torch.Tensor(gamedata[\"boards\"][:60000]).to(\"mps\"))[1]\n",
    "\n",
    "            # pred_winners = np.argmax(pred_value_logits.numpy(force=True), axis=1)\n",
    "            # winners = np.argmax(randoms_gamedata[\"values\"][60000:], axis=1)\n",
    "            # np.sum(winners == pred_winners) / len(winners)\n",
    "\n",
    "            pred_max = np.argmax(pred_logits.numpy(force=True), axis=1)\n",
    "            real_max = np.argmax(gamedata[gamedata_field][:60000], axis=1)\n",
    "            result = np.sum(pred_max == real_max) / len(pred_max)\n",
    "\n",
    "            print(model_name, gamedata_name, gamedata_field, result)"
   ]
  },
  {
   "cell_type": "markdown",
   "metadata": {},
   "source": [
    "I wanted to evaluate whether the difference in relative performance between both models can better explained by a difference in relative performance of each model in predicting the winner of the game. \n",
    "\n",
    "Hypothesis: Ratio two model bested ratio one model by less in a game with random players because the difference between ratio two model and ratio one model's ability to predict the outcome of the game is lower when there's random players.\n",
    "\n",
    "Here's what I found when I printed the % of the time that the predicted winner (and winner move) matched the real winner (and winner move):\n",
    "\n",
    "ratio_one_model randoms_gamedata values 0.68205\n",
    "ratio_two_model randoms_gamedata values 0.72475\n",
    "^ Difference = 4.27%\n",
    "\n",
    "ratio_one_model randoms_gamedata policies 0.6298833333333334\n",
    "ratio_two_model randoms_gamedata policies 0.6440333333333333\n",
    "^ Difference = 1.41%\n",
    "\n",
    "ratio_one_model temp_one_gamedata values 0.6062249116290216\n",
    "ratio_two_model temp_one_gamedata values 0.630100053921275\n",
    "^ Difference = 2.388%\n",
    "\n",
    "ratio_one_model temp_one_gamedata policies 0.6631118566892337\n",
    "ratio_two_model temp_one_gamedata policies 0.6928284704331675\n",
    "^ Difference = 2.97%\n",
    "\n"
   ]
  },
  {
   "cell_type": "code",
   "execution_count": 112,
   "metadata": {},
   "outputs": [
    {
     "data": {
      "image/png": "[encoded data removed]",
      "text/plain": [
       "<Figure size 640x480 with 1 Axes>"
      ]
     },
     "metadata": {},
     "output_type": "display_data"
    },
    {
     "name": "stdout",
     "output_type": "stream",
     "text": [
      "[19 16 21 22]\n"
     ]
    }
   ],
   "source": [
    "index = 12\n",
    "player = {\n",
    "    0: 2,\n",
    "    1: 3,\n",
    "    2: 2,\n",
    "    3: 3,\n",
    "    4: 2,\n",
    "    5: 3,\n",
    "    6: 2,\n",
    "    7: 3,\n",
    "    8: 2,\n",
    "    9: 3,\n",
    "    10: 2,\n",
    "    11: 3,\n",
    "    12: 3,\n",
    "}[index]\n",
    "\n",
    "universal_board = player_pov_helpers.occupancies_to_player_pov(\n",
    "    randoms_gamedata[\"boards\"][index],\n",
    "    -player,\n",
    ")\n",
    "Display(universal_board).show()\n",
    "\n",
    "print(np.sum(universal_board, axis=(1,2)))"
   ]
  },
  {
   "cell_type": "code",
   "execution_count": 114,
   "metadata": {},
   "outputs": [
    {
     "name": "stdout",
     "output_type": "stream",
     "text": [
      "[['random', 0.0], ['one', 1.0], ['random', 0.0], ['two', 0.0]]\n",
      "[['random', 0.0], ['random', 0.0], ['two', 1.0], ['one', 0.0]]\n",
      "[['random', 0.0], ['two', 0.0], ['one', 1.0], ['random', 0.0]]\n",
      "[['random', 0.0], ['two', 1.0], ['random', 0.0], ['one', 0.0]]\n",
      "[['two', 1.0], ['random', 0.0], ['one', 0.0], ['random', 0.0]]\n",
      "[['random', 0.0], ['random', 0.0], ['two', 1.0], ['one', 0.0]]\n"
     ]
    }
   ],
   "source": [
    "count = 0\n",
    "\n",
    "for e in events:\n",
    "    if e.name == \"game_result\":\n",
    "        print(e.params)\n",
    "        count += 1\n",
    "        if count > 5:\n",
    "            break"
   ]
  },
  {
   "cell_type": "code",
   "execution_count": null,
   "metadata": {},
   "outputs": [],
   "source": []
  }
 ],
 "metadata": {
  "kernelspec": {
   "display_name": "Python 3",
   "language": "python",
   "name": "python3"
  },
  "language_info": {
   "codemirror_mode": {
    "name": "ipython",
    "version": 3
   },
   "file_extension": ".py",
   "mimetype": "text/x-python",
   "name": "python",
   "nbconvert_exporter": "python",
   "pygments_lexer": "ipython3",
   "version": "3.11.3"
  }
 },
 "nbformat": 4,
 "nbformat_minor": 2
}
