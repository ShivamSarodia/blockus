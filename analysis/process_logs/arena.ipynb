{
 "cells": [
  {
   "cell_type": "code",
   "execution_count": 17,
   "metadata": {},
   "outputs": [],
   "source": [
    "import sys\n",
    "import os \n",
    "\n",
    "os.environ[\"CONFIG_PATHS\"] = \"../../configs/small_model.yaml\"\n",
    "os.environ[\"CONFIG_OVERRIDES\"] = 'game.moves_directory=\"../../data/moves_10\"'\n",
    "sys.path.append(\"../../src\")\n",
    "\n",
    "import matplotlib.pyplot as plt\n",
    "import scipy.stats\n",
    "\n",
    "from analysis import load_events, filter_events"
   ]
  },
  {
   "cell_type": "code",
   "execution_count": 18,
   "metadata": {},
   "outputs": [
    {
     "name": "stdout",
     "output_type": "stream",
     "text": [
      "Start time: 1732324661.362259\n"
     ]
    }
   ],
   "source": [
    "events = load_events(\"../../data/2024-11-22_17-11-50-opalescent/logs_2024-11-22_17-33-40_435170.txt\")"
   ]
  },
  {
   "cell_type": "code",
   "execution_count": 19,
   "metadata": {},
   "outputs": [
    {
     "name": "stdout",
     "output_type": "stream",
     "text": [
      "{'model_name': '2024-11-22_09-47-50_646610'}\n"
     ]
    }
   ],
   "source": [
    "for event in events:\n",
    "    if event.name == \"loaded_model\":\n",
    "        print(event.params)\n"
   ]
  },
  {
   "cell_type": "code",
   "execution_count": 20,
   "metadata": {},
   "outputs": [
    {
     "name": "stdout",
     "output_type": "stream",
     "text": [
      "311\n"
     ]
    }
   ],
   "source": [
    "game_result_events = filter_events(events, \"game_result\")\n",
    "game_results = [event.params for event in game_result_events]\n",
    "\n",
    "players = set()\n",
    "for game_result in game_results:\n",
    "    for player, _ in game_result:\n",
    "        players.add(player)\n",
    "\n",
    "print(len(game_results))"
   ]
  },
  {
   "cell_type": "code",
   "execution_count": 21,
   "metadata": {},
   "outputs": [],
   "source": [
    "elos = [{player: 1000 for player in players}]\n",
    "\n",
    "elo_K = 10.0\n",
    "elo_base = 400.0\n",
    "\n",
    "for game_result in game_results:\n",
    "    latest_elo = elos[-1].copy()\n",
    "\n",
    "    game_players = [player_name for player_name, _ in game_result]\n",
    "    Q_player = [10 ** (latest_elo[player] / elo_base) for player in game_players]\n",
    "    Q_total = sum(Q_player)\n",
    "    E_player = [Q / Q_total for Q in Q_player]\n",
    "\n",
    "    for i, (player, result) in enumerate(game_result):\n",
    "        latest_elo[player] += elo_K * (result - E_player[i])\n",
    "\n",
    "    elos.append(latest_elo)"
   ]
  },
  {
   "cell_type": "code",
   "execution_count": 22,
   "metadata": {},
   "outputs": [
    {
     "data": {
      "text/plain": [
       "{'custom': 0.15005359056806003, 'default': 0.8499464094319399}"
      ]
     },
     "execution_count": 22,
     "metadata": {},
     "output_type": "execute_result"
    }
   ],
   "source": [
    "results = {}\n",
    "for game_result in game_results:\n",
    "    for player, result in game_result:\n",
    "        results[player] = results.get(player, 0) + result\n",
    "\n",
    "total_results = sum(results.values())\n",
    "for player in results:\n",
    "    results[player] = results[player] / total_results\n",
    "\n",
    "results"
   ]
  },
  {
   "cell_type": "code",
   "execution_count": 23,
   "metadata": {},
   "outputs": [],
   "source": [
    "# # Extract player names from the first dictionary in elos\n",
    "# player_names = elos[0].keys()\n",
    "\n",
    "# # Prepare data for plotting\n",
    "# elo_history = {player: [] for player in player_names}\n",
    "\n",
    "# # Populate elo_history with ELO ratings over time\n",
    "# for elo_snapshot in elos:\n",
    "#     for player in player_names:\n",
    "#         elo_history[player].append(elo_snapshot[player])\n",
    "\n",
    "# # Plot ELO ratings for each player\n",
    "# plt.figure(figsize=(10, 6))\n",
    "# for player, history in elo_history.items():\n",
    "#     plt.plot(history, label=player)\n",
    "\n",
    "# plt.title(\"ELO Ratings Over Time\")\n",
    "# plt.xlabel(\"Game Number\")\n",
    "# plt.ylabel(\"ELO Rating\")\n",
    "# plt.legend()\n",
    "# plt.grid(True)\n",
    "# plt.show()\n"
   ]
  },
  {
   "cell_type": "code",
   "execution_count": null,
   "metadata": {},
   "outputs": [],
   "source": []
  }
 ],
 "metadata": {
  "kernelspec": {
   "display_name": "Python 3",
   "language": "python",
   "name": "python3"
  },
  "language_info": {
   "codemirror_mode": {
    "name": "ipython",
    "version": 3
   },
   "file_extension": ".py",
   "mimetype": "text/x-python",
   "name": "python",
   "nbconvert_exporter": "python",
   "pygments_lexer": "ipython3",
   "version": "3.11.3"
  }
 },
 "nbformat": 4,
 "nbformat_minor": 2
}
