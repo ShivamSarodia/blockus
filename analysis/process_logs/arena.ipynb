{
 "cells": [
  {
   "cell_type": "code",
   "execution_count": 1,
   "metadata": {},
   "outputs": [],
   "source": [
    "import sys\n",
    "import os \n",
    "\n",
    "os.environ[\"CONFIG_PATHS\"] = \"../../configs/small_model.yaml\"\n",
    "os.environ[\"CONFIG_OVERRIDES\"] = 'game.moves_directory=\"../../data/moves_10\"'\n",
    "sys.path.append(\"../../src\")\n",
    "\n",
    "import matplotlib.pyplot as plt\n",
    "import scipy.stats\n",
    "\n",
    "from analysis import load_events, filter_events"
   ]
  },
  {
   "cell_type": "code",
   "execution_count": 2,
   "metadata": {},
   "outputs": [
    {
     "name": "stdout",
     "output_type": "stream",
     "text": [
      "Start time: 1732141301.009999\n"
     ]
    }
   ],
   "source": [
    "events = load_events(\"../../data/2024-11-20_14-10-24-survival/logs_2024-11-20_14-37-39_995738.txt\")"
   ]
  },
  {
   "cell_type": "code",
   "execution_count": 4,
   "metadata": {},
   "outputs": [
    {
     "name": "stdout",
     "output_type": "stream",
     "text": [
      "689\n"
     ]
    }
   ],
   "source": [
    "game_result_events = filter_events(events, \"game_result\")\n",
    "game_results = [event.params for event in game_result_events]\n",
    "\n",
    "players = set()\n",
    "for game_result in game_results:\n",
    "    for player, _ in game_result:\n",
    "        players.add(player)\n",
    "\n",
    "print(len(game_results))"
   ]
  },
  {
   "cell_type": "code",
   "execution_count": 5,
   "metadata": {},
   "outputs": [],
   "source": [
    "elos = {player: 1000 for player in players}\n",
    "\n",
    "elo_K = 32.0\n",
    "elo_base = 400.0\n",
    "\n",
    "for game_result in game_results:\n",
    "    game_players = [player_name for player_name, _ in game_result]\n",
    "    Q_player = [10 ** (elos[player] / elo_base) for player in game_players]\n",
    "    Q_total = sum(Q_player)\n",
    "    E_player = [Q / Q_total for Q in Q_player]\n",
    "\n",
    "    for i, (player, result) in enumerate(game_result):\n",
    "        elos[player] += elo_K * (result - E_player[i])\n",
    "\n",
    "    print(elos)"
   ]
  },
  {
   "cell_type": "code",
   "execution_count": 6,
   "metadata": {},
   "outputs": [
    {
     "data": {
      "text/plain": [
       "{'s313486': 1078.2858299207712,\n",
       " 's0': 595.6623282496626,\n",
       " 's208119': 1162.935486330412,\n",
       " 's105769': 1163.1163554991563}"
      ]
     },
     "execution_count": 6,
     "metadata": {},
     "output_type": "execute_result"
    }
   ],
   "source": [
    "elos"
   ]
  },
  {
   "cell_type": "code",
   "execution_count": 7,
   "metadata": {},
   "outputs": [
    {
     "name": "stdout",
     "output_type": "stream",
     "text": [
      "s0 \t 0.014071577012895747\n",
      "s313486 \t 0.19469341975463678\n",
      "s208119 \t 0.39539536118851615\n",
      "s105769 \t 0.3958396420439512\n"
     ]
    }
   ],
   "source": [
    "for player, E in zip(game_players, E_player):\n",
    "    print(player, \"\\t\", E)"
   ]
  },
  {
   "cell_type": "code",
   "execution_count": 9,
   "metadata": {},
   "outputs": [
    {
     "data": {
      "text/plain": [
       "{'s208119': 0.33272859216255446,\n",
       " 's313486': 0.2674165457184325,\n",
       " 's0': 0.009796806966618287,\n",
       " 's105769': 0.3900580551523948}"
      ]
     },
     "execution_count": 9,
     "metadata": {},
     "output_type": "execute_result"
    }
   ],
   "source": [
    "results = {}\n",
    "for game_result in game_results:\n",
    "    for player, result in game_result:\n",
    "        results[player] = results.get(player, 0) + result\n",
    "\n",
    "total_results = sum(results.values())\n",
    "for player in results:\n",
    "    results[player] = results[player] / total_results\n",
    "\n",
    "results"
   ]
  },
  {
   "cell_type": "code",
   "execution_count": null,
   "metadata": {},
   "outputs": [],
   "source": []
  }
 ],
 "metadata": {
  "kernelspec": {
   "display_name": "Python 3",
   "language": "python",
   "name": "python3"
  },
  "language_info": {
   "codemirror_mode": {
    "name": "ipython",
    "version": 3
   },
   "file_extension": ".py",
   "mimetype": "text/x-python",
   "name": "python",
   "nbconvert_exporter": "python",
   "pygments_lexer": "ipython3",
   "version": "3.11.3"
  }
 },
 "nbformat": 4,
 "nbformat_minor": 2
}
