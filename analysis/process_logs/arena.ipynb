{
 "cells": [
  {
   "cell_type": "code",
   "execution_count": 1,
   "metadata": {},
   "outputs": [
    {
     "name": "stdout",
     "output_type": "stream",
     "text": [
      "Loaded config:  {\"development\": {\"debug_mode\": true, \"profile\": false, \"runtime\": 0, \"display_logs_in_console\": false, \"output_directory\": \"data/2024-12-06_00-09-14-self-play-for-policy-weight-one\"}, \"logging\": {\"save_interval\": 3600, \"mcts_report_fraction\": 0, \"ucb_report\": false, \"gpu_evaluation\": true, \"made_move\": true}, \"game\": {\"board_size\": 10, \"num_moves\": 6233, \"num_pieces\": 21, \"moves_directory\": \"../../data/moves_10\"}, \"architecture\": {\"gameplay_processes\": 6, \"coroutines_per_process\": 256, \"game_flush_threshold\": 200}, \"training\": {\"run\": true, \"network_name\": \"default\", \"batch_size\": 64, \"policy_loss_weight\": 1.0, \"learning_rate\": 0.001, \"sample_window\": 50000, \"samples_per_generation\": 10000, \"sampling_ratio\": 2.0, \"minimum_window_size\": 10000, \"new_data_check_interval\": 60}, \"networks\": {\"default\": {\"main_body_channels\": 64, \"value_head_channels\": 16, \"value_head_flat_layer_width\": 64, \"policy_head_channels\": 64, \"residual_blocks\": 8, \"model_path\": \"\", \"model_directory\": \"data/2024-12-06_00-09-14-self-play-for-policy-weight-one/models/\", \"new_model_check_interval\": 120, \"batch_size\": 128}}, \"agents\": [{\"type\": \"mcts\", \"network\": \"default\", \"full_move_probability\": 0.2, \"full_move_rollouts\": 500, \"fast_move_rollouts\": 100, \"ucb_exploration\": 1.4, \"total_dirichlet_alpha\": 10.83, \"root_exploration_fraction\": 0.25, \"move_selection_temperature\": 1.0, \"name\": \"default\"}, {\"type\": \"mcts\", \"network\": \"default\", \"full_move_probability\": 0.2, \"full_move_rollouts\": 500, \"fast_move_rollouts\": 100, \"ucb_exploration\": 1.4, \"total_dirichlet_alpha\": 10.83, \"root_exploration_fraction\": 0.25, \"move_selection_temperature\": 1.0, \"name\": \"default\"}, {\"type\": \"mcts\", \"network\": \"default\", \"full_move_probability\": 0.2, \"full_move_rollouts\": 500, \"fast_move_rollouts\": 100, \"ucb_exploration\": 1.4, \"total_dirichlet_alpha\": 10.83, \"root_exploration_fraction\": 0.25, \"move_selection_temperature\": 1.0, \"name\": \"default\"}, {\"type\": \"mcts\", \"network\": \"default\", \"full_move_probability\": 0.2, \"full_move_rollouts\": 500, \"fast_move_rollouts\": 100, \"ucb_exploration\": 1.4, \"total_dirichlet_alpha\": 10.83, \"root_exploration_fraction\": 0.25, \"move_selection_temperature\": 1.0, \"name\": \"default\"}]}\n",
      "Loading file: piece_indices\n",
      "Loading file: rotation_mapping\n",
      "Loading file: new_occupieds\n",
      "Loading file: moves_ruled_out_for_all\n",
      "Loading file: scores\n",
      "Loading file: moves_ruled_out_for_player\n",
      "Loading file: moves_enabled_for_player\n",
      "Loading file: new_adjacents\n",
      "Loading file: new_corners\n"
     ]
    }
   ],
   "source": [
    "import sys\n",
    "import os \n",
    "\n",
    "os.environ[\"CONFIG_PATHS\"] = \"../../configs/self_play.yaml\"\n",
    "os.environ[\"CONFIG_OVERRIDES\"] = 'game.moves_directory=\"../../data/moves_10\"'\n",
    "sys.path.append(\"../../src\")\n",
    "\n",
    "import matplotlib.pyplot as plt\n",
    "import numpy as np\n",
    "import scipy.stats\n",
    "import random\n",
    "import glob \n",
    "\n",
    "from analysis import load_events, filter_events\n",
    "from display import Display\n",
    "import player_pov_helpers\n",
    "from training.load_games import load_games_new"
   ]
  },
  {
   "cell_type": "code",
   "execution_count": 3,
   "metadata": {},
   "outputs": [
    {
     "name": "stdout",
     "output_type": "stream",
     "text": [
      "/Users/shivamsarodia/Dev/blockus/data/2024-12-10_18-41-43-arena-for-trained-ratio-1.0-vs-doublehandedness/logs_2024-12-10_19-46-20_775694.txt\n",
      "Start time: 1733885178.290099\n"
     ]
    }
   ],
   "source": [
    "directory = \"/Users/shivamsarodia/Dev/blockus/data/2024-12-10_18-41-43-arena-for-trained-ratio-1.0-vs-doublehandedness\"\n",
    "\n",
    "events_path = max(glob.glob(directory + \"/logs_*.txt\"))\n",
    "print(events_path)\n",
    "events = load_events(events_path)"
   ]
  },
  {
   "cell_type": "code",
   "execution_count": 4,
   "metadata": {},
   "outputs": [
    {
     "name": "stdout",
     "output_type": "stream",
     "text": [
      "{'model_name': '002190002'}\n",
      "{'model_name': '000520016'}\n",
      "{'model_name': '000520016'}\n"
     ]
    }
   ],
   "source": [
    "for event in events:\n",
    "    if event.name == \"loaded_model\":\n",
    "        print(event.params)"
   ]
  },
  {
   "cell_type": "code",
   "execution_count": 5,
   "metadata": {},
   "outputs": [
    {
     "name": "stdout",
     "output_type": "stream",
     "text": [
      "['dh', 'weight_0158', 'weight_1000']\n",
      "Number of games: 4194\n"
     ]
    }
   ],
   "source": [
    "game_result_events = filter_events(events, \"game_result\")\n",
    "if \"scores\" in game_result_events[0].params:\n",
    "    game_results = [event.params[\"scores\"] for event in game_result_events]\n",
    "else:\n",
    "    game_results = [event.params for event in game_result_events]\n",
    "\n",
    "# I didn't zfill the player names, so we need to do that now\n",
    "# for sorting to work.\n",
    "# for game_result in game_results:\n",
    "#     for result_line in game_result:\n",
    "#         result_line[0] = result_line[0][1:].zfill(6)\n",
    "\n",
    "players = set()\n",
    "for game_result in game_results:\n",
    "    for player, _ in game_result:\n",
    "        players.add(player)\n",
    "\n",
    "# players = sorted(list(players), key=lambda x: int(x))\n",
    "players = sorted(list(players))\n",
    "\n",
    "print(players)\n",
    "print(\"Number of games:\", len(game_results))"
   ]
  },
  {
   "cell_type": "code",
   "execution_count": 6,
   "metadata": {},
   "outputs": [
    {
     "name": "stdout",
     "output_type": "stream",
     "text": [
      "event | 1733888875.2551072 | bad_game_file | {\"path\": \"/Users/shivamsarodia/Dev/blockus/data/2024-12-10_18-41-43-arena-for-trained-ratio-1.0-vs-doublehandedness/games/1733886954412_22.npz\"}\n",
      "event | 1733888877.460166 | bad_game_file | {\"path\": \"/Users/shivamsarodia/Dev/blockus/data/2024-12-10_18-41-43-arena-for-trained-ratio-1.0-vs-doublehandedness/games/1733885709418_21.npz\"}\n"
     ]
    }
   ],
   "source": [
    "gamedata_paths = glob.glob(directory + \"/games/*.npz\")\n",
    "gamedata = load_games_new(gamedata_paths)"
   ]
  },
  {
   "cell_type": "code",
   "execution_count": 7,
   "metadata": {},
   "outputs": [
    {
     "name": "stdout",
     "output_type": "stream",
     "text": [
      "Number of terminal boards: 4189\n",
      "Number of unique terminal boards: 3798\n",
      "Percent of non-duplicate games: 0.9066603007877775\n"
     ]
    }
   ],
   "source": [
    "terminal_board_indices = []\n",
    "terminal_boards = []\n",
    "for i in range(len(gamedata[\"game_ids\"]) - 1):\n",
    "    if gamedata[\"game_ids\"][i] != gamedata[\"game_ids\"][i + 1]:\n",
    "        terminal_board_indices.append(i)\n",
    "        terminal_boards.append(gamedata[\"boards\"][i])\n",
    "\n",
    "boards_seen = set()\n",
    "games_with_unique_terminal_boards = []\n",
    "\n",
    "for index, board in zip(terminal_board_indices, terminal_boards):\n",
    "    if board.tobytes() not in boards_seen:\n",
    "        games_with_unique_terminal_boards.append(gamedata[\"game_ids\"][index])\n",
    "        boards_seen.add(board.tobytes())\n",
    "        \n",
    "print(\"Number of terminal boards:\", len(terminal_boards))\n",
    "print(\"Number of unique terminal boards:\", len(boards_seen))\n",
    "print(\"Percent of non-duplicate games:\", len(games_with_unique_terminal_boards) / len(terminal_boards))"
   ]
  },
  {
   "cell_type": "code",
   "execution_count": 8,
   "metadata": {},
   "outputs": [
    {
     "data": {
      "text/plain": [
       "{'dh': 0.2559211572087101,\n",
       " 'weight_0158': 0.26251788268955667,\n",
       " 'weight_1000': 0.22563980289302196}"
      ]
     },
     "execution_count": 8,
     "metadata": {},
     "output_type": "execute_result"
    }
   ],
   "source": [
    "# Do a naive calculation of average performance per game per player.\n",
    "player_total_scores = {player: 0 for player in players}\n",
    "player_total_games = {player: 0 for player in players}\n",
    "\n",
    "for game_result in game_results:\n",
    "    for player, result in game_result:\n",
    "        player_total_scores[player] += result\n",
    "        player_total_games[player] += 1\n",
    "\n",
    "player_average_scores = {player: player_total_scores[player] / player_total_games[player] for player in players}\n",
    "player_average_scores"
   ]
  },
  {
   "cell_type": "code",
   "execution_count": 9,
   "metadata": {},
   "outputs": [
    {
     "data": {
      "image/png": "[encoded data removed]",
      "text/plain": [
       "<Figure size 1000x600 with 1 Axes>"
      ]
     },
     "metadata": {},
     "output_type": "display_data"
    },
    {
     "ename": "",
     "evalue": "",
     "output_type": "error",
     "traceback": [
      "\u001b[1;31mThe Kernel crashed while executing code in the current cell or a previous cell. \n",
      "\u001b[1;31mPlease review the code in the cell(s) to identify a possible cause of the failure. \n",
      "\u001b[1;31mClick <a href='https://aka.ms/vscodeJupyterKernelCrash'>here</a> for more info. \n",
      "\u001b[1;31mView Jupyter <a href='command:jupyter.viewOutput'>log</a> for further details."
     ]
    }
   ],
   "source": [
    "player_results = {}\n",
    "\n",
    "filtered_game_results = game_results\n",
    "\n",
    "# filtered_game_results = [\n",
    "#     game_result_event.params[\"scores\"] for game_result_event in game_result_events\n",
    "#     if game_result_event.params[\"game_id\"] in games_with_unique_terminal_boards\n",
    "# ]\n",
    "\n",
    "for game_result in filtered_game_results:\n",
    "    for player, result in game_result:\n",
    "        player_results[player] = player_results.get(player, []) + [result]\n",
    "\n",
    "player_average = {}\n",
    "for player in player_results:\n",
    "    player_average[player] = np.mean(player_results[player])\n",
    "\n",
    "player_error_range = {}\n",
    "for player in player_results:\n",
    "    std = np.std(player_results[player]) / np.sqrt(len(player_results[player]))\n",
    "    player_error_range[player] = 1.96 * std\n",
    "\n",
    "plt.figure(figsize=(10, 6))\n",
    "\n",
    "sorted_players = sorted(player_average.items(), key=lambda x: x[0])\n",
    "players = [p[0] for p in sorted_players]\n",
    "averages = [player_average[p] for p in players]\n",
    "errors = [player_error_range[p] for p in players]\n",
    "\n",
    "bars = plt.bar(players, averages, yerr=errors, capsize=5)\n",
    "\n",
    "# Add value labels above each bar\n",
    "for bar in bars:\n",
    "    height = bar.get_height()\n",
    "    plt.text(bar.get_x() + bar.get_width()/2., height,\n",
    "             f'{height:.3f}',\n",
    "             ha='center', va='bottom')\n",
    "\n",
    "plt.title(\"Player Performance with 95% Confidence Intervals\")\n",
    "plt.ylabel(\"Average Score\")\n",
    "plt.xticks(rotation=45)\n",
    "plt.grid(True, axis='y')\n",
    "plt.tight_layout()\n",
    "plt.show()"
   ]
  },
  {
   "cell_type": "code",
   "execution_count": null,
   "metadata": {},
   "outputs": [],
   "source": [
    "elos = [{player: 1000 for player in players}]\n",
    "\n",
    "elo_K = 0.5\n",
    "elo_base = 400.0\n",
    "\n",
    "for _ in range(len(game_results) * 10):\n",
    "    game_result = random.choice(game_results)\n",
    "\n",
    "    latest_elo = elos[-1].copy()\n",
    "\n",
    "    game_players = [player_name for player_name, _ in game_result]\n",
    "    Q_player = [10 ** (latest_elo[player] / elo_base) for player in game_players]\n",
    "    Q_total = sum(Q_player)\n",
    "    E_player = [Q / Q_total for Q in Q_player]\n",
    "\n",
    "    for i, (player, result) in enumerate(game_result):\n",
    "        latest_elo[player] += elo_K * (result - E_player[i])\n",
    "\n",
    "    elos.append(latest_elo)\n",
    "\n",
    "# Extract player names from the first dictionary in elos\n",
    "player_names = elos[0].keys()\n",
    "\n",
    "# Prepare data for plotting\n",
    "elo_history = {player: [] for player in player_names}\n",
    "\n",
    "# Populate elo_history with ELO ratings over time\n",
    "for elo_snapshot in elos:\n",
    "    for player in player_names:\n",
    "        elo_history[player].append(elo_snapshot[player])\n",
    "\n",
    "# Plot ELO ratings for each player\n",
    "plt.figure(figsize=(10, 6))\n",
    "for player, history in elo_history.items():\n",
    "    plt.plot(history, label=player)\n",
    "\n",
    "plt.title(\"ELO Rating Convergence\")\n",
    "plt.xlabel(\"Game Number\")\n",
    "plt.ylabel(\"ELO Rating\")\n",
    "plt.legend(loc=\"lower left\")\n",
    "plt.grid(True)\n",
    "plt.show()\n",
    "\n",
    "final_elos = elos[-1]"
   ]
  },
  {
   "cell_type": "code",
   "execution_count": null,
   "metadata": {},
   "outputs": [],
   "source": [
    "plt.figure(figsize=(10, 6))\n",
    "\n",
    "filtered_players = [player for player in players]\n",
    "\n",
    "elos_y = [final_elos[player] for player in filtered_players]\n",
    "plt.bar(filtered_players, elos_y)\n",
    "\n",
    "plt.title(\"Final ELO Ratings by Player ID\")\n",
    "plt.xlabel(\"Player ID\")\n",
    "plt.xticks(rotation=90)\n",
    "plt.ylabel(\"ELO Rating\")\n",
    "plt.grid(True)\n",
    "plt.ylim(bottom=min(elos_y) - 10, top=max(elos_y) + 10)  # Set y-axis to start at 900\n",
    "plt.tight_layout()\n",
    "plt.show()"
   ]
  },
  {
   "cell_type": "code",
   "execution_count": null,
   "metadata": {},
   "outputs": [],
   "source": [
    "plt.figure(figsize=(10, 6))\n",
    "\n",
    "elos_x = [player for player in players]\n",
    "elos_y = [final_elos[player] for player in players]\n",
    "plt.bar(elos_x, elos_y, marker='o')\n",
    "plt.legend()\n",
    "\n",
    "plt.title(\"Final ELO Ratings by Player ID\")\n",
    "plt.xlabel(\"Player ID\")\n",
    "plt.ylabel(\"ELO Rating\")\n",
    "plt.grid(True)\n",
    "plt.gca().get_xaxis().get_major_formatter().set_scientific(False)\n",
    "plt.xlim(left=0)  # Set x-axis to start at 0\n",
    "plt.tight_layout()\n",
    "plt.show()"
   ]
  },
  {
   "cell_type": "code",
   "execution_count": null,
   "metadata": {},
   "outputs": [],
   "source": [
    "terminal_board_hashes = [hash(board.tobytes()) for board in terminal_boards]\n",
    "print(len(terminal_board_hashes))"
   ]
  },
  {
   "cell_type": "code",
   "execution_count": null,
   "metadata": {},
   "outputs": [],
   "source": [
    "from collections import Counter\n",
    "\n",
    "# Count frequency of each hash\n",
    "hash_counts = Counter(terminal_board_hashes)\n",
    "\n",
    "# For each frequency k, multiply by k to get total boards\n",
    "total_boards_by_freq = {k: k*v for k,v in Counter(hash_counts.values()).items()}\n",
    "\n",
    "# Sort by frequency for consistent visualization\n",
    "labels = sorted(total_boards_by_freq.keys())\n",
    "sizes = [total_boards_by_freq[k] for k in labels]\n",
    "\n",
    "# Convert to percentages\n",
    "total = sum(sizes)\n",
    "sizes_pct = [s/total * 100 for s in sizes]\n",
    "\n",
    "# Create labels showing both count and percentage\n",
    "labels = [f'Appears {k} times ({s:.1f}%)' for k,s in zip(labels, sizes_pct)]\n",
    "\n",
    "plt.figure(figsize=(8, 6))\n",
    "plt.pie(sizes, labels=labels, autopct='%1.1f%%', labeldistance=1.2, rotatelabels=True)\n",
    "plt.title('Distribution of Terminal Board Frequencies\\n(Counting Duplicates)')\n",
    "plt.show()"
   ]
  },
  {
   "cell_type": "code",
   "execution_count": null,
   "metadata": {},
   "outputs": [],
   "source": [
    "Display(terminal_boards[50]).show()"
   ]
  },
  {
   "cell_type": "code",
   "execution_count": null,
   "metadata": {},
   "outputs": [],
   "source": [
    "terminal_board_indices[30]"
   ]
  },
  {
   "cell_type": "code",
   "execution_count": null,
   "metadata": {},
   "outputs": [],
   "source": []
  }
 ],
 "metadata": {
  "kernelspec": {
   "display_name": "Python 3",
   "language": "python",
   "name": "python3"
  },
  "language_info": {
   "codemirror_mode": {
    "name": "ipython",
    "version": 3
   },
   "file_extension": ".py",
   "mimetype": "text/x-python",
   "name": "python",
   "nbconvert_exporter": "python",
   "pygments_lexer": "ipython3",
   "version": "3.11.3"
  }
 },
 "nbformat": 4,
 "nbformat_minor": 2
}
