{
 "cells": [
  {
   "cell_type": "code",
   "execution_count": 2,
   "metadata": {},
   "outputs": [],
   "source": [
    "import sys\n",
    "import os \n",
    "\n",
    "os.environ[\"CONFIG_PATHS\"] = \"../configs/self_play.yaml\"\n",
    "os.environ[\"CONFIG_OVERRIDES\"] = 'game.moves_directory=\"../data/moves_10\"'\n",
    "sys.path.append(\"../src\")"
   ]
  },
  {
   "cell_type": "code",
   "execution_count": 78,
   "metadata": {},
   "outputs": [],
   "source": [
    "import numpy as np\n",
    "from tqdm import tqdm\n",
    "\n",
    "from configuration import config, moves_data\n",
    "\n",
    "BOARD_SIZE = config()[\"game\"][\"board_size\"]\n",
    "MOVES_DATA = moves_data()\n",
    "MOVE_SIZES = MOVES_DATA[\"new_occupieds\"].sum(axis=(1, 2))"
   ]
  },
  {
   "cell_type": "code",
   "execution_count": 4,
   "metadata": {},
   "outputs": [],
   "source": [
    "# This stuff is all static, independent of board\n",
    "\n",
    "move_edge_counts = MOVES_DATA[\"new_occupieds\"].copy().astype(np.int8)\n",
    "move_edge_counts[:, 1:, :] += MOVES_DATA[\"new_occupieds\"][:, :-1, :]\n",
    "move_edge_counts[:, :-1, :] += MOVES_DATA[\"new_occupieds\"][:, 1:, :]\n",
    "move_edge_counts[:, :, 1:] += MOVES_DATA[\"new_occupieds\"][:, :, :-1]\n",
    "move_edge_counts[:, :, :-1] += MOVES_DATA[\"new_occupieds\"][:, :, 1:]\n",
    "moves_with_counts = move_edge_counts * MOVES_DATA[\"new_occupieds\"]\n",
    "\n",
    "start_corners = np.zeros((4, BOARD_SIZE, BOARD_SIZE), dtype=bool)\n",
    "start_corners[0, 0, 0] = True\n",
    "start_corners[1, 0, BOARD_SIZE - 1] = True\n",
    "start_corners[2, BOARD_SIZE - 1, BOARD_SIZE - 1] = True\n",
    "start_corners[3, BOARD_SIZE - 1, 0] = True\n",
    "\n",
    "INITIAL_MOVES_ENABLED = np.any(MOVES_DATA[\"new_occupieds\"] & start_corners[:, np.newaxis, :, :], axis=(2, 3))\n",
    "\n",
    "piece_indices_one_hot = np.eye(21)[MOVES_DATA[\"piece_indices\"]]"
   ]
  },
  {
   "cell_type": "code",
   "execution_count": 92,
   "metadata": {},
   "outputs": [],
   "source": [
    "def fetch_augmented(boards):\n",
    "    board_edge_counts = boards.copy().astype(np.int8)\n",
    "    board_edge_counts[:, :, 1:, :] += boards[:, :, :-1, :]\n",
    "    board_edge_counts[:, :, :-1, :] += boards[:, :, 1:, :]\n",
    "    board_edge_counts[:, :, :, 1:] += boards[:, :, :, :-1]\n",
    "    board_edge_counts[:, :, :, :-1] += boards[:, :, :, 1:]\n",
    "    board_with_counts = board_edge_counts * boards\n",
    "\n",
    "    board_count_matches_move_count = (\n",
    "        board_with_counts[:, :, np.newaxis, :, :] == moves_with_counts[np.newaxis, np.newaxis, :, :, :]\n",
    "    )\n",
    "\n",
    "    moves_played = (\n",
    "        np.logical_or(\n",
    "            board_count_matches_move_count,\n",
    "            ~MOVES_DATA[\"new_occupieds\"][np.newaxis, np.newaxis, :, :, :],\n",
    "        )\n",
    "    ).all(axis=(3, 4))\n",
    "\n",
    "    pieces_used_raw = (moves_played @ piece_indices_one_hot)\n",
    "    assert np.max(pieces_used_raw) == 1\n",
    "\n",
    "    pieces_available = ~(pieces_used_raw.astype(np.bool))\n",
    "\n",
    "    batch_indices, player_indices, move_indices = np.nonzero(moves_played)\n",
    "    \n",
    "    moves_ruled_out = np.zeros((len(boards), 6233), dtype=np.bool)\n",
    "    moves_enabled = np.repeat(INITIAL_MOVES_ENABLED[0][np.newaxis, :], len(boards), axis=0).astype(np.bool)\n",
    "\n",
    "    for i in range(len(batch_indices)):\n",
    "        batch_index = batch_indices[i]\n",
    "        player_index = player_indices[i]\n",
    "        move_index = move_indices[i]\n",
    "\n",
    "        moves_ruled_out[batch_index] |= MOVES_DATA[\"moves_ruled_out_for_all\"][move_index]\n",
    "\n",
    "        if player_index == 0:\n",
    "            moves_enabled[batch_index] |= MOVES_DATA[\"moves_enabled_for_player\"][move_index]\n",
    "            moves_ruled_out[batch_index] |= MOVES_DATA[\"moves_ruled_out_for_player\"][move_index]\n",
    "\n",
    "    valid_moves = ~moves_ruled_out & moves_enabled\n",
    "\n",
    "    return pieces_available, valid_moves"
   ]
  },
  {
   "cell_type": "code",
   "execution_count": 93,
   "metadata": {},
   "outputs": [],
   "source": [
    "game_files = glob.glob('../data/2024-11-23_00-37-50-doublehandedness/games/*.npz')\n",
    "game_files.sort()"
   ]
  },
  {
   "cell_type": "code",
   "execution_count": 96,
   "metadata": {},
   "outputs": [
    {
     "name": "stderr",
     "output_type": "stream",
     "text": [
      "100%|██████████| 1614/1614 [00:45<00:00, 35.59it/s]  \n"
     ]
    }
   ],
   "source": [
    "import glob\n",
    "from multiprocessing import Pool\n",
    "\n",
    "game_files = glob.glob('../data/2024-11-23_00-37-50-doublehandedness/games/*.npz')\n",
    "game_files.sort()\n",
    "\n",
    "created_game_files = glob.glob('../data/2024-11-23_00-37-50-doublehandedness/augmented_games/*.npz')\n",
    "\n",
    "def process_game_file(game_file):\n",
    "    new_name = game_file.replace(\"/games/\", \"/augmented_games/\")\n",
    "    if new_name in created_game_files:\n",
    "        return\n",
    "\n",
    "    with open(game_file, \"rb\") as f:\n",
    "        npz = np.load(f)\n",
    "        boards = npz[\"occupancies\"]\n",
    "        if \"valid_moves_array\" in npz:\n",
    "            saved_valid_moves = npz[\"valid_moves_array\"]\n",
    "\n",
    "        unused_pieces, valid_moves = fetch_augmented(boards)\n",
    "        if \"valid_moves_array\" in npz:\n",
    "            assert (valid_moves == saved_valid_moves).all()\n",
    "\n",
    "        if \"values\" in npz:\n",
    "            values = npz[\"values\"]\n",
    "        else:\n",
    "            values = npz[\"final_game_values\"]\n",
    "\n",
    "        np.savez_compressed(\n",
    "            new_name,\n",
    "            boards=boards,\n",
    "            policies=npz[\"policies\"],\n",
    "            values=values,\n",
    "            valid_moves_array=valid_moves,\n",
    "            unused_pieces=unused_pieces,\n",
    "        )\n",
    "\n",
    "for game_file in tqdm(game_files):\n",
    "    process_game_file(game_file)"
   ]
  },
  {
   "cell_type": "code",
   "execution_count": null,
   "metadata": {},
   "outputs": [],
   "source": []
  }
 ],
 "metadata": {
  "kernelspec": {
   "display_name": "Python 3",
   "language": "python",
   "name": "python3"
  },
  "language_info": {
   "codemirror_mode": {
    "name": "ipython",
    "version": 3
   },
   "file_extension": ".py",
   "mimetype": "text/x-python",
   "name": "python",
   "nbconvert_exporter": "python",
   "pygments_lexer": "ipython3",
   "version": "3.11.3"
  }
 },
 "nbformat": 4,
 "nbformat_minor": 2
}
