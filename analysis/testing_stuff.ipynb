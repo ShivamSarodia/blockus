{
 "cells": [
  {
   "cell_type": "code",
   "execution_count": 73,
   "metadata": {},
   "outputs": [],
   "source": [
    "import sys\n",
    "import os \n",
    "\n",
    "os.environ[\"CONFIG_PATHS\"] = \"../configs/self_play.yaml\"\n",
    "os.environ[\"CONFIG_OVERRIDES\"] = 'game.moves_directory=\"../data/moves_10\"'\n",
    "sys.path.append(\"../src\")\n",
    "\n",
    "from display import Display\n",
    "from neural_net import NeuralNet\n",
    "import player_pov_helpers\n",
    "\n",
    "from configuration import moves_data, config"
   ]
  },
  {
   "cell_type": "code",
   "execution_count": 108,
   "metadata": {},
   "outputs": [],
   "source": [
    "import torch\n",
    "import json\n",
    "import numpy as np\n",
    "import matplotlib.pyplot as plt\n",
    "from collections import namedtuple"
   ]
  },
  {
   "cell_type": "code",
   "execution_count": 109,
   "metadata": {},
   "outputs": [],
   "source": [
    "Event = namedtuple('Event', [\n",
    "    'timestamp',\n",
    "    'name',\n",
    "    'params',\n",
    "]) \n",
    "\n",
    "def load_events(log_path):\n",
    "    events = []\n",
    "    with open(log_path) as f:\n",
    "        logs = f.readlines()\n",
    "        for line in logs:\n",
    "            # Skip lines that are not events.\n",
    "            if not line.startswith(\"event | \"):\n",
    "                continue\n",
    "\n",
    "            _, timestamp, event, params = line.strip().split(\" | \")\n",
    "            events.append((float(timestamp), event, json.loads(params)))\n",
    "\n",
    "    # Sort events by timestamp.\n",
    "    events.sort(key=lambda x: x[0])\n",
    "\n",
    "    # Adjust timestamps to start at 0.\n",
    "    start_time = events[0][0]\n",
    "    print(f\"Start time: {start_time}\")\n",
    "\n",
    "    return [\n",
    "        Event(\n",
    "            timestamp=timestamp - start_time,\n",
    "            name=event,\n",
    "            params=params,\n",
    "        )\n",
    "        for timestamp, event, params in events\n",
    "    ]"
   ]
  },
  {
   "cell_type": "code",
   "execution_count": 68,
   "metadata": {},
   "outputs": [],
   "source": [
    "MOVES = moves_data()"
   ]
  },
  {
   "cell_type": "code",
   "execution_count": 5,
   "metadata": {},
   "outputs": [],
   "source": [
    "# first move, by player 0: 2942\n",
    "# second move, by player 1 recommended by the policy network: 2914 (in universal)\n",
    "\n",
    "gamefile = np.load(\"../data/2024-11-20_17-29-54-solitude/games/1732155305827_22.npz\")\n",
    "occupancies = gamefile[\"occupancies\"]\n",
    "policies = gamefile[\"policies\"]\n",
    "values = gamefile[\"values\"]"
   ]
  },
  {
   "cell_type": "code",
   "execution_count": 71,
   "metadata": {},
   "outputs": [
    {
     "data": {
      "image/png": "[encoded data removed]",
      "text/plain": [
       "<Figure size 640x480 with 1 Axes>"
      ]
     },
     "metadata": {},
     "output_type": "display_data"
    }
   ],
   "source": [
    "i = 21\n",
    "player = i % 4\n",
    "\n",
    "Display(\n",
    "    occupancies[i], MOVES[\"new_occupieds\"][2914]\n",
    ").show()"
   ]
  },
  {
   "cell_type": "code",
   "execution_count": 62,
   "metadata": {},
   "outputs": [
    {
     "data": {
      "text/plain": [
       "np.int64(2942)"
      ]
     },
     "execution_count": 62,
     "metadata": {},
     "output_type": "execute_result"
    }
   ],
   "source": [
    "np.argmax(policies[0])"
   ]
  },
  {
   "cell_type": "code",
   "execution_count": 85,
   "metadata": {},
   "outputs": [
    {
     "data": {
      "text/plain": [
       "<All keys matched successfully>"
      ]
     },
     "execution_count": 85,
     "metadata": {},
     "output_type": "execute_result"
    }
   ],
   "source": [
    "model = NeuralNet(config()[\"networks\"][\"default\"])\n",
    "model.load_state_dict(torch.load(\"../data/2024-11-20_17-29-54-solitude/models/2024-11-20_08-24-43_975055.pt\", weights_only=True))"
   ]
  },
  {
   "cell_type": "code",
   "execution_count": 89,
   "metadata": {},
   "outputs": [],
   "source": [
    "model.eval()\n",
    "values, policies = model(torch.Tensor(occupancies))"
   ]
  },
  {
   "cell_type": "code",
   "execution_count": 103,
   "metadata": {},
   "outputs": [
    {
     "data": {
      "text/plain": [
       "tensor([0.4902, 0.1406, 0.3062, 0.0631], grad_fn=<SoftmaxBackward0>)"
      ]
     },
     "execution_count": 103,
     "metadata": {},
     "output_type": "execute_result"
    }
   ],
   "source": [
    "torch.softmax(values[0], dim=0)"
   ]
  },
  {
   "cell_type": "code",
   "execution_count": 104,
   "metadata": {},
   "outputs": [
    {
     "data": {
      "text/plain": [
       "tensor(2942)"
      ]
     },
     "execution_count": 104,
     "metadata": {},
     "output_type": "execute_result"
    }
   ],
   "source": [
    "torch.argmax(policies[0])"
   ]
  },
  {
   "cell_type": "code",
   "execution_count": 114,
   "metadata": {},
   "outputs": [
    {
     "name": "stdout",
     "output_type": "stream",
     "text": [
      "Start time: 1732155183.77021\n"
     ]
    }
   ],
   "source": [
    "events = "
   ]
  },
  {
   "cell_type": "code",
   "execution_count": 115,
   "metadata": {},
   "outputs": [],
   "source": [
    "reports = [event for event in events if event.name == \"mcts_report\"]"
   ]
  },
  {
   "cell_type": "code",
   "execution_count": 122,
   "metadata": {},
   "outputs": [
    {
     "data": {
      "image/png": "[encoded data removed]",
      "text/plain": [
       "<Figure size 1000x600 with 1 Axes>"
      ]
     },
     "metadata": {},
     "output_type": "display_data"
    }
   ],
   "source": [
    "plt.figure(figsize=(10, 6))\n",
    "plt.bar(range(len(reports[0].params[\"children_visit_counts\"])), reports[0].params[\"children_visit_counts\"])\n",
    "plt.title(\"Children Visit Counts\")\n",
    "plt.xlabel(\"Index\")\n",
    "plt.ylabel(\"Visit Count\")\n",
    "plt.xticks(range(0, len(reports[0].params[\"children_visit_counts\"]), 5))\n",
    "plt.grid(True, axis='y')\n",
    "plt.show()\n"
   ]
  },
  {
   "cell_type": "code",
   "execution_count": null,
   "metadata": {},
   "outputs": [],
   "source": [
    "plt.plot(reports[0].params[\"children_visit_counts\"])"
   ]
  }
 ],
 "metadata": {
  "kernelspec": {
   "display_name": "Python 3",
   "language": "python",
   "name": "python3"
  },
  "language_info": {
   "codemirror_mode": {
    "name": "ipython",
    "version": 3
   },
   "file_extension": ".py",
   "mimetype": "text/x-python",
   "name": "python",
   "nbconvert_exporter": "python",
   "pygments_lexer": "ipython3",
   "version": "3.11.3"
  }
 },
 "nbformat": 4,
 "nbformat_minor": 2
}
