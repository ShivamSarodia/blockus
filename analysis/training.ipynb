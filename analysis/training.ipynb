{
 "cells": [
  {
   "cell_type": "code",
   "execution_count": 1,
   "metadata": {},
   "outputs": [
    {
     "name": "stdout",
     "output_type": "stream",
     "text": [
      "Loaded config:  {\"development\": {\"debug_mode\": true, \"profile\": false, \"runtime\": 36000, \"display_logs_in_console\": false, \"output_directory\": \"data/\", \"create_random_subdirectory\": false, \"log_mcts_report_fraction\": 0.01}, \"game\": {\"board_size\": 10, \"num_moves\": 6233, \"moves_directory\": \"../data/moves_10\"}, \"architecture\": {\"gameplay_processes\": 6, \"coroutines_per_process\": 256}, \"networks\": {\"default\": {\"main_body_channels\": 64, \"value_head_channels\": 16, \"value_head_flat_layer_width\": 64, \"policy_head_channels\": 64, \"residual_blocks\": 8, \"model_path\": \"data/2024-11-11_13-31-42-gasterolichenes/trained_model.pth\", \"model_directory\": \"\", \"new_model_check_interval\": 120, \"batch_size\": 128}}, \"training\": {\"run\": true, \"network\": \"default\", \"new_data_check_interval\": 120, \"batch_size\": 64}, \"agents\": [{\"mcts\": {\"network\": \"default\", \"full_move_probability\": 0.2, \"full_move_rollouts\": 500, \"fast_move_rollouts\": 100, \"ucb_exploration\": 1.4, \"total_dirichlet_alpha\": 10.83, \"root_exploration_fraction\": 0.25}, \"name\": \"default\"}, {\"mcts\": {\"network\": \"default\", \"full_move_probability\": 0.2, \"full_move_rollouts\": 500, \"fast_move_rollouts\": 100, \"ucb_exploration\": 1.4, \"total_dirichlet_alpha\": 10.83, \"root_exploration_fraction\": 0.25}, \"name\": \"default\"}, {\"mcts\": {\"network\": \"default\", \"full_move_probability\": 0.2, \"full_move_rollouts\": 500, \"fast_move_rollouts\": 100, \"ucb_exploration\": 1.4, \"total_dirichlet_alpha\": 10.83, \"root_exploration_fraction\": 0.25}, \"name\": \"default\"}, {\"mcts\": {\"network\": \"default\", \"full_move_probability\": 0.2, \"full_move_rollouts\": 500, \"fast_move_rollouts\": 100, \"ucb_exploration\": 1.4, \"total_dirichlet_alpha\": 10.83, \"root_exploration_fraction\": 0.25}, \"name\": \"default\"}]}\n"
     ]
    }
   ],
   "source": [
    "import os\n",
    "import sys\n",
    "import aim\n",
    "\n",
    "os.environ[\"CONFIG_PATHS\"] = \"../configs/small_model.yaml\"\n",
    "os.environ[\"CONFIG_OVERRIDES\"] = 'game.moves_directory=\"../data/moves_10\"'\n",
    "sys.path.append(\"../src\")\n",
    "\n",
    "import numpy as np\n",
    "import torch\n",
    "from torch import nn\n",
    "from tqdm import tqdm\n",
    "import time\n",
    "from torch.utils.data import TensorDataset, DataLoader\n",
    "from display import Display\n",
    "from configuration import moves_data, config"
   ]
  },
  {
   "cell_type": "code",
   "execution_count": 2,
   "metadata": {},
   "outputs": [],
   "source": [
    "from neural_net import NeuralNet\n",
    "from training.load_games import load_games"
   ]
  },
  {
   "cell_type": "code",
   "execution_count": 3,
   "metadata": {},
   "outputs": [
    {
     "name": "stdout",
     "output_type": "stream",
     "text": [
      "Loading file: piece_indices\n",
      "Loading file: rotation_mapping\n",
      "Loading file: new_occupieds\n",
      "Loading file: moves_ruled_out_for_all\n",
      "Loading file: scores\n",
      "Loading file: moves_ruled_out_for_player\n",
      "Loading file: moves_enabled_for_player\n",
      "Loading file: new_adjacents\n",
      "Loading file: new_corners\n"
     ]
    }
   ],
   "source": [
    "BATCH_SIZE = 64\n",
    "DEVICE = \"cpu\"\n",
    "MOVES = moves_data()"
   ]
  },
  {
   "cell_type": "code",
   "execution_count": 4,
   "metadata": {},
   "outputs": [],
   "source": [
    "GAMES_DIR = \"../data/2024-11-14_00-14-19-funduline/games\""
   ]
  },
  {
   "cell_type": "code",
   "execution_count": 5,
   "metadata": {},
   "outputs": [
    {
     "name": "stdout",
     "output_type": "stream",
     "text": [
      "event | 1732075695.249677 | bad_game_file | {\"path\": \"../data/2024-11-14_00-14-19-funduline/games/1731605802620.npz\"}\n"
     ]
    }
   ],
   "source": [
    "game_paths = [\n",
    "    os.path.join(GAMES_DIR, f)\n",
    "    for f in os.listdir(GAMES_DIR)\n",
    "]\n",
    "\n",
    "boards, policies, values = load_games(game_paths)\n",
    "dataset = TensorDataset(\n",
    "    torch.Tensor(boards),\n",
    "    torch.Tensor(policies),\n",
    "    torch.Tensor(values),\n",
    ")\n",
    "dataloader = DataLoader(dataset, batch_size=BATCH_SIZE, shuffle=True)"
   ]
  },
  {
   "cell_type": "code",
   "execution_count": 6,
   "metadata": {},
   "outputs": [],
   "source": [
    "run = aim.Run(repo='~/Dev/blockus/.aim')\n",
    "run[\"games_dir\"] = GAMES_DIR\n"
   ]
  },
  {
   "cell_type": "code",
   "execution_count": 7,
   "metadata": {},
   "outputs": [],
   "source": [
    "def _print_losses(value_loss, policy_loss, accuracy=None):\n",
    "    print(\"   Avg value loss:  \", value_loss)\n",
    "    print(\"   Avg policy loss: \", policy_loss)\n",
    "    print(\"   Avg total loss:  \", value_loss + policy_loss)\n",
    "    if accuracy:\n",
    "        print(\"   Accuracy:  \", accuracy)\n",
    "\n",
    "def _train(dataloader, optimizer, model, value_losses, policy_losses):\n",
    "    size = len(dataloader.dataset)\n",
    "    model.train()\n",
    "    for batch, (occupancies, children_visits, values) in tqdm(enumerate(dataloader)):\n",
    "        start_time = time.time()\n",
    "\n",
    "        batch_size = len(occupancies)\n",
    "\n",
    "        occupancies = occupancies.to(DEVICE)\n",
    "        children_visits = children_visits.to(DEVICE)\n",
    "        values = values.to(DEVICE)\n",
    "\n",
    "        pred_values, pred_children_visits = model(occupancies)\n",
    "\n",
    "        value_loss = nn.CrossEntropyLoss()(pred_values, values)\n",
    "        policy_loss = 0.158 * nn.CrossEntropyLoss()(pred_children_visits, children_visits)\n",
    "        loss = value_loss + policy_loss\n",
    "\n",
    "        if batch % 1 == 0:\n",
    "            predicted_winners = np.argmax(pred_values.numpy(force=True), axis=1)\n",
    "            predicted_winner_real_scores = values.numpy(force=True)[\n",
    "                np.arange(len(predicted_winners)),\n",
    "                predicted_winners,\n",
    "            ]\n",
    "            correct_winner_count = np.sum(predicted_winner_real_scores > 0)\n",
    "            run.track(\n",
    "                correct_winner_count / batch_size,\n",
    "                name=\"correct_winner_accuracy\",\n",
    "                step=batch,\n",
    "            )\n",
    "\n",
    "        run.track(\n",
    "            value_loss.item(),\n",
    "            name=\"value_loss\",\n",
    "            step=batch,\n",
    "        )\n",
    "        run.track(\n",
    "            policy_loss.item(),\n",
    "            name=\"policy_loss\",\n",
    "            step=batch,\n",
    "        )\n",
    "        run.track(\n",
    "            loss.item(),\n",
    "            name=\"total_loss\",\n",
    "            step=batch,\n",
    "        )        \n",
    "\n",
    "        # Backpropagation\n",
    "        loss.backward()\n",
    "        optimizer.step()\n",
    "        optimizer.zero_grad()\n",
    "\n",
    "        current = (batch + 1) * batch_size \n",
    "        runtime = time.time() - start_time\n",
    "        print(f\"Training [{current:>5d}/{size:>5d}] [{runtime / batch_size:e}s per sample]\")\n",
    "\n",
    "    value_losses.append(value_loss.item())\n",
    "    policy_losses.append(policy_loss.item())\n",
    "\n",
    "# def _test(dataloader, model, value_losses, policy_losses):\n",
    "#     size = len(dataloader.dataset)\n",
    "#     model.eval()\n",
    "\n",
    "#     sum_value_loss, sum_policy_loss = 0.0, 0.0\n",
    "#     correct_winner_count = 0\n",
    "#     correct_stupid_winner_count = 0\n",
    "\n",
    "#     with torch.no_grad():\n",
    "#         for occupancies, children_visits, values in dataloader:\n",
    "#             occupancies = occupancies.to(DEVICE)\n",
    "#             children_visits = children_visits.to(DEVICE)\n",
    "#             values = values.to(DEVICE)\n",
    "\n",
    "#             pred_values, pred_children_visits = model(occupancies)         \n",
    "#             sum_value_loss += nn.CrossEntropyLoss(reduction=\"sum\")(pred_values, values).item()\n",
    "#             sum_policy_loss += 0.158 * nn.CrossEntropyLoss(reduction=\"sum\")(pred_children_visits, children_visits).item()\n",
    "\n",
    "#             pred_values = pred_values.numpy(force=True)\n",
    "#             values = values.numpy(force=True)\n",
    "\n",
    "#             stupid_predicted_winners = np.argmax(np.sum(occupancies.numpy(force=True), axis=(2, 3)), axis=1)\n",
    "#             predicted_winners = np.argmax(pred_values, axis=1)\n",
    "#             predicted_winner_real_scores = values[\n",
    "#                 np.arange(len(predicted_winners)),\n",
    "#                 predicted_winners,\n",
    "#             ]\n",
    "#             correct_winner_count += np.sum(predicted_winner_real_scores > 0)\n",
    "\n",
    "#             stupid_predicted_winner_real_scores =  values[\n",
    "#                 np.arange(len(stupid_predicted_winners)),\n",
    "#                 stupid_predicted_winners,\n",
    "#             ]\n",
    "#             correct_stupid_winner_count += np.sum(stupid_predicted_winner_real_scores > 0)\n",
    "\n",
    "#     value_loss = sum_value_loss / size\n",
    "#     policy_loss = sum_policy_loss / size\n",
    "#     accuracy = correct_winner_count / size\n",
    "\n",
    "#     value_losses.append(value_loss)\n",
    "#     policy_losses.append(policy_loss)\n",
    "#     print(\"Test Error:\")\n",
    "#     _print_losses(\n",
    "#         value_loss,\n",
    "#         policy_loss,\n",
    "#     )\n",
    "#     print(\"Smart accuracy: \", accuracy)\n",
    "#     print(\"Stupid accuracy: \", correct_stupid_winner_count / size)"
   ]
  },
  {
   "cell_type": "code",
   "execution_count": 8,
   "metadata": {},
   "outputs": [],
   "source": [
    "torch.set_num_threads(1)\n",
    "\n",
    "model = NeuralNet(config()[\"networks\"][\"default\"]).to(DEVICE)\n",
    "optimizer = torch.optim.Adam(model.parameters(), lr=1e-3)"
   ]
  },
  {
   "cell_type": "code",
   "execution_count": 9,
   "metadata": {},
   "outputs": [
    {
     "name": "stdout",
     "output_type": "stream",
     "text": [
      "Epoch 1\n",
      "-------------------------------\n"
     ]
    },
    {
     "name": "stderr",
     "output_type": "stream",
     "text": [
      "1it [00:00,  1.90it/s]"
     ]
    },
    {
     "name": "stdout",
     "output_type": "stream",
     "text": [
      "Training [   64/284008] [8.076441e-03s per sample]\n"
     ]
    },
    {
     "name": "stderr",
     "output_type": "stream",
     "text": [
      "2it [00:00,  2.30it/s]"
     ]
    },
    {
     "name": "stdout",
     "output_type": "stream",
     "text": [
      "Training [  128/284008] [5.729828e-03s per sample]\n"
     ]
    },
    {
     "name": "stderr",
     "output_type": "stream",
     "text": [
      "3it [00:01,  2.45it/s]"
     ]
    },
    {
     "name": "stdout",
     "output_type": "stream",
     "text": [
      "Training [  192/284008] [5.836170e-03s per sample]\n"
     ]
    },
    {
     "name": "stderr",
     "output_type": "stream",
     "text": [
      "4it [00:01,  2.54it/s]"
     ]
    },
    {
     "name": "stdout",
     "output_type": "stream",
     "text": [
      "Training [  256/284008] [5.795937e-03s per sample]\n"
     ]
    },
    {
     "name": "stderr",
     "output_type": "stream",
     "text": [
      "5it [00:02,  2.61it/s]"
     ]
    },
    {
     "name": "stdout",
     "output_type": "stream",
     "text": [
      "Training [  320/284008] [5.694252e-03s per sample]\n"
     ]
    },
    {
     "name": "stderr",
     "output_type": "stream",
     "text": [
      "6it [00:02,  2.65it/s]"
     ]
    },
    {
     "name": "stdout",
     "output_type": "stream",
     "text": [
      "Training [  384/284008] [5.698860e-03s per sample]\n"
     ]
    },
    {
     "name": "stderr",
     "output_type": "stream",
     "text": [
      "7it [00:02,  2.67it/s]"
     ]
    },
    {
     "name": "stdout",
     "output_type": "stream",
     "text": [
      "Training [  448/284008] [5.714249e-03s per sample]\n"
     ]
    },
    {
     "name": "stderr",
     "output_type": "stream",
     "text": [
      "8it [00:03,  2.70it/s]"
     ]
    },
    {
     "name": "stdout",
     "output_type": "stream",
     "text": [
      "Training [  512/284008] [5.652796e-03s per sample]\n"
     ]
    },
    {
     "name": "stderr",
     "output_type": "stream",
     "text": [
      "9it [00:03,  2.71it/s]"
     ]
    },
    {
     "name": "stdout",
     "output_type": "stream",
     "text": [
      "Training [  576/284008] [5.650736e-03s per sample]\n"
     ]
    },
    {
     "name": "stderr",
     "output_type": "stream",
     "text": [
      "10it [00:03,  2.70it/s]"
     ]
    },
    {
     "name": "stdout",
     "output_type": "stream",
     "text": [
      "Training [  640/284008] [5.849533e-03s per sample]\n"
     ]
    },
    {
     "name": "stderr",
     "output_type": "stream",
     "text": [
      "11it [00:04,  2.72it/s]"
     ]
    },
    {
     "name": "stdout",
     "output_type": "stream",
     "text": [
      "Training [  704/284008] [5.583029e-03s per sample]\n"
     ]
    },
    {
     "name": "stderr",
     "output_type": "stream",
     "text": [
      "12it [00:04,  2.75it/s]"
     ]
    },
    {
     "name": "stdout",
     "output_type": "stream",
     "text": [
      "Training [  768/284008] [5.502984e-03s per sample]\n"
     ]
    },
    {
     "name": "stderr",
     "output_type": "stream",
     "text": [
      "13it [00:04,  2.62it/s]"
     ]
    },
    {
     "name": "stdout",
     "output_type": "stream",
     "text": [
      "Training [  832/284008] [6.594688e-03s per sample]\n"
     ]
    },
    {
     "name": "stderr",
     "output_type": "stream",
     "text": [
      "14it [00:05,  2.66it/s]"
     ]
    },
    {
     "name": "stdout",
     "output_type": "stream",
     "text": [
      "Training [  896/284008] [5.603705e-03s per sample]\n"
     ]
    },
    {
     "name": "stderr",
     "output_type": "stream",
     "text": [
      "15it [00:05,  2.71it/s]"
     ]
    },
    {
     "name": "stdout",
     "output_type": "stream",
     "text": [
      "Training [  960/284008] [5.485419e-03s per sample]\n"
     ]
    },
    {
     "name": "stderr",
     "output_type": "stream",
     "text": [
      "16it [00:06,  2.72it/s]"
     ]
    },
    {
     "name": "stdout",
     "output_type": "stream",
     "text": [
      "Training [ 1024/284008] [5.686674e-03s per sample]\n"
     ]
    },
    {
     "name": "stderr",
     "output_type": "stream",
     "text": [
      "17it [00:06,  2.73it/s]"
     ]
    },
    {
     "name": "stdout",
     "output_type": "stream",
     "text": [
      "Training [ 1088/284008] [5.654138e-03s per sample]\n"
     ]
    },
    {
     "name": "stderr",
     "output_type": "stream",
     "text": [
      "18it [00:06,  2.72it/s]"
     ]
    },
    {
     "name": "stdout",
     "output_type": "stream",
     "text": [
      "Training [ 1152/284008] [5.778309e-03s per sample]\n"
     ]
    },
    {
     "name": "stderr",
     "output_type": "stream",
     "text": [
      "19it [00:07,  2.72it/s]"
     ]
    },
    {
     "name": "stdout",
     "output_type": "stream",
     "text": [
      "Training [ 1216/284008] [5.728684e-03s per sample]\n"
     ]
    },
    {
     "name": "stderr",
     "output_type": "stream",
     "text": [
      "20it [00:07,  2.75it/s]"
     ]
    },
    {
     "name": "stdout",
     "output_type": "stream",
     "text": [
      "Training [ 1280/284008] [5.505469e-03s per sample]\n"
     ]
    },
    {
     "name": "stderr",
     "output_type": "stream",
     "text": [
      "21it [00:07,  2.78it/s]"
     ]
    },
    {
     "name": "stdout",
     "output_type": "stream",
     "text": [
      "Training [ 1344/284008] [5.428627e-03s per sample]\n"
     ]
    },
    {
     "name": "stderr",
     "output_type": "stream",
     "text": [
      "22it [00:08,  2.80it/s]"
     ]
    },
    {
     "name": "stdout",
     "output_type": "stream",
     "text": [
      "Training [ 1408/284008] [5.472910e-03s per sample]\n"
     ]
    },
    {
     "name": "stderr",
     "output_type": "stream",
     "text": [
      "23it [00:08,  2.81it/s]"
     ]
    },
    {
     "name": "stdout",
     "output_type": "stream",
     "text": [
      "Training [ 1472/284008] [5.456205e-03s per sample]\n"
     ]
    },
    {
     "name": "stderr",
     "output_type": "stream",
     "text": [
      "24it [00:08,  2.82it/s]"
     ]
    },
    {
     "name": "stdout",
     "output_type": "stream",
     "text": [
      "Training [ 1536/284008] [5.460501e-03s per sample]\n"
     ]
    },
    {
     "name": "stderr",
     "output_type": "stream",
     "text": [
      "25it [00:09,  2.79it/s]"
     ]
    },
    {
     "name": "stdout",
     "output_type": "stream",
     "text": [
      "Training [ 1600/284008] [5.694687e-03s per sample]\n"
     ]
    },
    {
     "name": "stderr",
     "output_type": "stream",
     "text": [
      "26it [00:09,  2.78it/s]"
     ]
    },
    {
     "name": "stdout",
     "output_type": "stream",
     "text": [
      "Training [ 1664/284008] [5.651329e-03s per sample]\n"
     ]
    },
    {
     "name": "stderr",
     "output_type": "stream",
     "text": [
      "27it [00:10,  2.76it/s]"
     ]
    },
    {
     "name": "stdout",
     "output_type": "stream",
     "text": [
      "Training [ 1728/284008] [5.735237e-03s per sample]\n"
     ]
    },
    {
     "name": "stderr",
     "output_type": "stream",
     "text": [
      "28it [00:10,  2.76it/s]"
     ]
    },
    {
     "name": "stdout",
     "output_type": "stream",
     "text": [
      "Training [ 1792/284008] [5.597640e-03s per sample]\n"
     ]
    },
    {
     "name": "stderr",
     "output_type": "stream",
     "text": [
      "29it [00:10,  2.79it/s]"
     ]
    },
    {
     "name": "stdout",
     "output_type": "stream",
     "text": [
      "Training [ 1856/284008] [5.444873e-03s per sample]\n"
     ]
    },
    {
     "name": "stderr",
     "output_type": "stream",
     "text": [
      "30it [00:11,  2.79it/s]"
     ]
    },
    {
     "name": "stdout",
     "output_type": "stream",
     "text": [
      "Training [ 1920/284008] [5.607579e-03s per sample]\n"
     ]
    },
    {
     "name": "stderr",
     "output_type": "stream",
     "text": [
      "31it [00:11,  2.70it/s]"
     ]
    },
    {
     "name": "stdout",
     "output_type": "stream",
     "text": [
      "Training [ 1984/284008] [6.157000e-03s per sample]\n"
     ]
    },
    {
     "name": "stderr",
     "output_type": "stream",
     "text": [
      "32it [00:11,  2.73it/s]"
     ]
    },
    {
     "name": "stdout",
     "output_type": "stream",
     "text": [
      "Training [ 2048/284008] [5.535278e-03s per sample]\n"
     ]
    },
    {
     "name": "stderr",
     "output_type": "stream",
     "text": [
      "33it [00:12,  2.73it/s]"
     ]
    },
    {
     "name": "stdout",
     "output_type": "stream",
     "text": [
      "Training [ 2112/284008] [5.688950e-03s per sample]\n"
     ]
    },
    {
     "name": "stderr",
     "output_type": "stream",
     "text": [
      "34it [00:12,  2.73it/s]"
     ]
    },
    {
     "name": "stdout",
     "output_type": "stream",
     "text": [
      "Training [ 2176/284008] [5.707737e-03s per sample]\n"
     ]
    },
    {
     "name": "stderr",
     "output_type": "stream",
     "text": [
      "35it [00:12,  2.74it/s]"
     ]
    },
    {
     "name": "stdout",
     "output_type": "stream",
     "text": [
      "Training [ 2240/284008] [5.658407e-03s per sample]\n"
     ]
    },
    {
     "name": "stderr",
     "output_type": "stream",
     "text": [
      "36it [00:13,  2.74it/s]"
     ]
    },
    {
     "name": "stdout",
     "output_type": "stream",
     "text": [
      "Training [ 2304/284008] [5.648542e-03s per sample]\n"
     ]
    },
    {
     "name": "stderr",
     "output_type": "stream",
     "text": [
      "37it [00:13,  2.69it/s]"
     ]
    },
    {
     "name": "stdout",
     "output_type": "stream",
     "text": [
      "Training [ 2368/284008] [6.035060e-03s per sample]\n"
     ]
    },
    {
     "name": "stderr",
     "output_type": "stream",
     "text": [
      "38it [00:14,  2.71it/s]"
     ]
    },
    {
     "name": "stdout",
     "output_type": "stream",
     "text": [
      "Training [ 2432/284008] [5.643830e-03s per sample]\n"
     ]
    },
    {
     "name": "stderr",
     "output_type": "stream",
     "text": [
      "39it [00:14,  2.72it/s]"
     ]
    },
    {
     "name": "stdout",
     "output_type": "stream",
     "text": [
      "Training [ 2496/284008] [5.646732e-03s per sample]\n"
     ]
    },
    {
     "name": "stderr",
     "output_type": "stream",
     "text": [
      "40it [00:14,  2.73it/s]"
     ]
    },
    {
     "name": "stdout",
     "output_type": "stream",
     "text": [
      "Training [ 2560/284008] [5.638093e-03s per sample]\n"
     ]
    },
    {
     "name": "stderr",
     "output_type": "stream",
     "text": [
      "41it [00:15,  2.74it/s]"
     ]
    },
    {
     "name": "stdout",
     "output_type": "stream",
     "text": [
      "Training [ 2624/284008] [5.667999e-03s per sample]\n"
     ]
    },
    {
     "name": "stderr",
     "output_type": "stream",
     "text": [
      "42it [00:15,  2.74it/s]"
     ]
    },
    {
     "name": "stdout",
     "output_type": "stream",
     "text": [
      "Training [ 2688/284008] [5.636409e-03s per sample]\n"
     ]
    },
    {
     "name": "stderr",
     "output_type": "stream",
     "text": [
      "43it [00:15,  2.75it/s]"
     ]
    },
    {
     "name": "stdout",
     "output_type": "stream",
     "text": [
      "Training [ 2752/284008] [5.612154e-03s per sample]\n"
     ]
    },
    {
     "name": "stderr",
     "output_type": "stream",
     "text": [
      "44it [00:16,  2.72it/s]"
     ]
    },
    {
     "name": "stdout",
     "output_type": "stream",
     "text": [
      "Training [ 2816/284008] [5.895142e-03s per sample]\n"
     ]
    },
    {
     "name": "stderr",
     "output_type": "stream",
     "text": [
      "45it [00:16,  2.73it/s]"
     ]
    },
    {
     "name": "stdout",
     "output_type": "stream",
     "text": [
      "Training [ 2880/284008] [5.600855e-03s per sample]\n"
     ]
    },
    {
     "name": "stderr",
     "output_type": "stream",
     "text": [
      "46it [00:16,  2.75it/s]"
     ]
    },
    {
     "name": "stdout",
     "output_type": "stream",
     "text": [
      "Training [ 2944/284008] [5.612452e-03s per sample]\n"
     ]
    },
    {
     "name": "stderr",
     "output_type": "stream",
     "text": [
      "47it [00:17,  2.74it/s]"
     ]
    },
    {
     "name": "stdout",
     "output_type": "stream",
     "text": [
      "Training [ 3008/284008] [5.671315e-03s per sample]\n"
     ]
    },
    {
     "name": "stderr",
     "output_type": "stream",
     "text": [
      "48it [00:17,  2.75it/s]"
     ]
    },
    {
     "name": "stdout",
     "output_type": "stream",
     "text": [
      "Training [ 3072/284008] [5.592812e-03s per sample]\n"
     ]
    },
    {
     "name": "stderr",
     "output_type": "stream",
     "text": [
      "49it [00:18,  2.68it/s]"
     ]
    },
    {
     "name": "stdout",
     "output_type": "stream",
     "text": [
      "Training [ 3136/284008] [6.169878e-03s per sample]\n"
     ]
    },
    {
     "name": "stderr",
     "output_type": "stream",
     "text": [
      "50it [00:18,  2.69it/s]"
     ]
    },
    {
     "name": "stdout",
     "output_type": "stream",
     "text": [
      "Training [ 3200/284008] [5.729739e-03s per sample]\n"
     ]
    },
    {
     "name": "stderr",
     "output_type": "stream",
     "text": [
      "51it [00:18,  2.70it/s]"
     ]
    },
    {
     "name": "stdout",
     "output_type": "stream",
     "text": [
      "Training [ 3264/284008] [5.673707e-03s per sample]\n"
     ]
    },
    {
     "name": "stderr",
     "output_type": "stream",
     "text": [
      "52it [00:19,  2.72it/s]"
     ]
    },
    {
     "name": "stdout",
     "output_type": "stream",
     "text": [
      "Training [ 3328/284008] [5.612779e-03s per sample]\n"
     ]
    },
    {
     "name": "stderr",
     "output_type": "stream",
     "text": [
      "53it [00:19,  2.69it/s]"
     ]
    },
    {
     "name": "stdout",
     "output_type": "stream",
     "text": [
      "Training [ 3392/284008] [5.925249e-03s per sample]\n"
     ]
    },
    {
     "name": "stderr",
     "output_type": "stream",
     "text": [
      "54it [00:19,  2.71it/s]"
     ]
    },
    {
     "name": "stdout",
     "output_type": "stream",
     "text": [
      "Training [ 3456/284008] [5.647175e-03s per sample]\n"
     ]
    },
    {
     "name": "stderr",
     "output_type": "stream",
     "text": [
      "55it [00:20,  2.71it/s]"
     ]
    },
    {
     "name": "stdout",
     "output_type": "stream",
     "text": [
      "Training [ 3520/284008] [5.712360e-03s per sample]\n"
     ]
    },
    {
     "name": "stderr",
     "output_type": "stream",
     "text": [
      "56it [00:20,  2.75it/s]"
     ]
    },
    {
     "name": "stdout",
     "output_type": "stream",
     "text": [
      "Training [ 3584/284008] [5.502280e-03s per sample]\n"
     ]
    },
    {
     "name": "stderr",
     "output_type": "stream",
     "text": [
      "57it [00:21,  2.74it/s]"
     ]
    },
    {
     "name": "stdout",
     "output_type": "stream",
     "text": [
      "Training [ 3648/284008] [5.708579e-03s per sample]\n"
     ]
    },
    {
     "name": "stderr",
     "output_type": "stream",
     "text": [
      "58it [00:21,  2.74it/s]"
     ]
    },
    {
     "name": "stdout",
     "output_type": "stream",
     "text": [
      "Training [ 3712/284008] [5.668234e-03s per sample]\n"
     ]
    },
    {
     "name": "stderr",
     "output_type": "stream",
     "text": [
      "59it [00:21,  2.74it/s]"
     ]
    },
    {
     "name": "stdout",
     "output_type": "stream",
     "text": [
      "Training [ 3776/284008] [5.679060e-03s per sample]\n"
     ]
    },
    {
     "name": "stderr",
     "output_type": "stream",
     "text": [
      "60it [00:22,  2.77it/s]"
     ]
    },
    {
     "name": "stdout",
     "output_type": "stream",
     "text": [
      "Training [ 3840/284008] [5.483083e-03s per sample]\n"
     ]
    },
    {
     "name": "stderr",
     "output_type": "stream",
     "text": [
      "61it [00:22,  2.77it/s]"
     ]
    },
    {
     "name": "stdout",
     "output_type": "stream",
     "text": [
      "Training [ 3904/284008] [5.609907e-03s per sample]\n"
     ]
    },
    {
     "name": "stderr",
     "output_type": "stream",
     "text": [
      "62it [00:22,  2.76it/s]"
     ]
    },
    {
     "name": "stdout",
     "output_type": "stream",
     "text": [
      "Training [ 3968/284008] [5.671576e-03s per sample]\n"
     ]
    },
    {
     "name": "stderr",
     "output_type": "stream",
     "text": [
      "63it [00:23,  2.72it/s]"
     ]
    },
    {
     "name": "stdout",
     "output_type": "stream",
     "text": [
      "Training [ 4032/284008] [5.902518e-03s per sample]\n"
     ]
    },
    {
     "name": "stderr",
     "output_type": "stream",
     "text": [
      "64it [00:23,  2.72it/s]"
     ]
    },
    {
     "name": "stdout",
     "output_type": "stream",
     "text": [
      "Training [ 4096/284008] [5.714189e-03s per sample]\n"
     ]
    },
    {
     "name": "stderr",
     "output_type": "stream",
     "text": [
      "65it [00:24,  2.56it/s]"
     ]
    },
    {
     "name": "stdout",
     "output_type": "stream",
     "text": [
      "Training [ 4160/284008] [6.863657e-03s per sample]\n"
     ]
    },
    {
     "name": "stderr",
     "output_type": "stream",
     "text": [
      "66it [00:24,  2.62it/s]"
     ]
    },
    {
     "name": "stdout",
     "output_type": "stream",
     "text": [
      "Training [ 4224/284008] [5.641129e-03s per sample]\n"
     ]
    },
    {
     "name": "stderr",
     "output_type": "stream",
     "text": [
      "67it [00:24,  2.49it/s]"
     ]
    },
    {
     "name": "stdout",
     "output_type": "stream",
     "text": [
      "Training [ 4288/284008] [6.996423e-03s per sample]\n"
     ]
    },
    {
     "name": "stderr",
     "output_type": "stream",
     "text": [
      "68it [00:25,  2.32it/s]"
     ]
    },
    {
     "name": "stdout",
     "output_type": "stream",
     "text": [
      "Training [ 4352/284008] [7.722296e-03s per sample]\n"
     ]
    },
    {
     "name": "stderr",
     "output_type": "stream",
     "text": [
      "69it [00:25,  2.35it/s]"
     ]
    },
    {
     "name": "stdout",
     "output_type": "stream",
     "text": [
      "Training [ 4416/284008] [6.457627e-03s per sample]\n"
     ]
    },
    {
     "name": "stderr",
     "output_type": "stream",
     "text": [
      "70it [00:26,  2.37it/s]"
     ]
    },
    {
     "name": "stdout",
     "output_type": "stream",
     "text": [
      "Training [ 4480/284008] [6.423377e-03s per sample]\n"
     ]
    },
    {
     "name": "stderr",
     "output_type": "stream",
     "text": [
      "71it [00:26,  2.35it/s]"
     ]
    },
    {
     "name": "stdout",
     "output_type": "stream",
     "text": [
      "Training [ 4544/284008] [6.716501e-03s per sample]\n"
     ]
    },
    {
     "name": "stderr",
     "output_type": "stream",
     "text": [
      "72it [00:26,  2.43it/s]"
     ]
    },
    {
     "name": "stdout",
     "output_type": "stream",
     "text": [
      "Training [ 4608/284008] [5.931187e-03s per sample]\n"
     ]
    },
    {
     "name": "stderr",
     "output_type": "stream",
     "text": [
      "73it [00:27,  2.49it/s]"
     ]
    },
    {
     "name": "stdout",
     "output_type": "stream",
     "text": [
      "Training [ 4672/284008] [5.904797e-03s per sample]\n"
     ]
    },
    {
     "name": "stderr",
     "output_type": "stream",
     "text": [
      "74it [00:27,  2.58it/s]"
     ]
    },
    {
     "name": "stdout",
     "output_type": "stream",
     "text": [
      "Training [ 4736/284008] [5.521018e-03s per sample]\n"
     ]
    },
    {
     "name": "stderr",
     "output_type": "stream",
     "text": [
      "75it [00:28,  2.59it/s]"
     ]
    },
    {
     "name": "stdout",
     "output_type": "stream",
     "text": [
      "Training [ 4800/284008] [5.887717e-03s per sample]\n"
     ]
    },
    {
     "name": "stderr",
     "output_type": "stream",
     "text": [
      "76it [00:28,  2.64it/s]"
     ]
    },
    {
     "name": "stdout",
     "output_type": "stream",
     "text": [
      "Training [ 4864/284008] [5.663343e-03s per sample]\n"
     ]
    },
    {
     "name": "stderr",
     "output_type": "stream",
     "text": [
      "77it [00:28,  2.53it/s]"
     ]
    },
    {
     "name": "stdout",
     "output_type": "stream",
     "text": [
      "Training [ 4928/284008] [6.767541e-03s per sample]\n"
     ]
    },
    {
     "name": "stderr",
     "output_type": "stream",
     "text": [
      "78it [00:29,  2.57it/s]"
     ]
    },
    {
     "name": "stdout",
     "output_type": "stream",
     "text": [
      "Training [ 4992/284008] [5.785514e-03s per sample]\n"
     ]
    },
    {
     "name": "stderr",
     "output_type": "stream",
     "text": [
      "79it [00:29,  2.63it/s]"
     ]
    },
    {
     "name": "stdout",
     "output_type": "stream",
     "text": [
      "Training [ 5056/284008] [5.580310e-03s per sample]\n"
     ]
    },
    {
     "name": "stderr",
     "output_type": "stream",
     "text": [
      "80it [00:29,  2.66it/s]"
     ]
    },
    {
     "name": "stdout",
     "output_type": "stream",
     "text": [
      "Training [ 5120/284008] [5.679309e-03s per sample]\n"
     ]
    },
    {
     "name": "stderr",
     "output_type": "stream",
     "text": [
      "81it [00:30,  2.68it/s]"
     ]
    },
    {
     "name": "stdout",
     "output_type": "stream",
     "text": [
      "Training [ 5184/284008] [5.679343e-03s per sample]\n"
     ]
    },
    {
     "name": "stderr",
     "output_type": "stream",
     "text": [
      "82it [00:30,  2.66it/s]"
     ]
    },
    {
     "name": "stdout",
     "output_type": "stream",
     "text": [
      "Training [ 5248/284008] [5.944718e-03s per sample]\n",
      "Training interrupted.\n"
     ]
    },
    {
     "name": "stderr",
     "output_type": "stream",
     "text": [
      "\n"
     ]
    }
   ],
   "source": [
    "epochs = 1\n",
    "test_value_losses = []\n",
    "test_policy_losses = []\n",
    "train_value_losses = []\n",
    "train_policy_losses = []\n",
    "\n",
    "try:\n",
    "    for t in range(epochs):\n",
    "        print(f\"Epoch {t+1}\\n-------------------------------\")\n",
    "        _train(dataloader, optimizer, model, train_value_losses, train_policy_losses)\n",
    "except KeyboardInterrupt:\n",
    "    print(\"Training interrupted.\")\n",
    "run.close()"
   ]
  },
  {
   "cell_type": "code",
   "execution_count": 10,
   "metadata": {},
   "outputs": [
    {
     "ename": "NameError",
     "evalue": "name '_test' is not defined",
     "output_type": "error",
     "traceback": [
      "\u001b[0;31m---------------------------------------------------------------------------\u001b[0m",
      "\u001b[0;31mNameError\u001b[0m                                 Traceback (most recent call last)",
      "Cell \u001b[0;32mIn[10], line 1\u001b[0m\n\u001b[0;32m----> 1\u001b[0m \u001b[43m_test\u001b[49m(test_dataloader, model, [], [])\n",
      "\u001b[0;31mNameError\u001b[0m: name '_test' is not defined"
     ]
    }
   ],
   "source": [
    "_test(test_dataloader, model, [], [])"
   ]
  },
  {
   "cell_type": "code",
   "execution_count": 100,
   "metadata": {},
   "outputs": [],
   "source": [
    "torch.save(model.state_dict(), \"../data/2024-11-14_00-14-19-funduline/trained_model.pth\")"
   ]
  },
  {
   "cell_type": "code",
   "execution_count": 101,
   "metadata": {},
   "outputs": [
    {
     "data": {
      "image/png": "[encoded data removed]",
      "text/plain": [
       "<Figure size 640x480 with 1 Axes>"
      ]
     },
     "metadata": {},
     "output_type": "display_data"
    },
    {
     "name": "stdout",
     "output_type": "stream",
     "text": [
      "[[0.3697369  0.29480544 0.17764919 0.15780847]]\n",
      "tensor([0., 0., 0., 1.])\n"
     ]
    }
   ],
   "source": [
    "boards, policies, values = test_data\n",
    "\n",
    "# 1000 - pretty good, happy with red, shows green definitely is losing, etc\n",
    "\n",
    "index = 700\n",
    "board, policies, values = boards[index], policies[index], values[index]\n",
    "\n",
    "display = Display(board, overlay_dots=MOVES[\"new_occupieds\"][1118])\n",
    "display.show()\n",
    "\n",
    "values_logits_tensor, policy_logits_tensor = model(board.unsqueeze(0).to(DEVICE))\n",
    "eval_values = torch.softmax(values_logits_tensor, dim=1).detach().cpu().numpy()\n",
    "policy_logits = policy_logits_tensor.detach().cpu().numpy()\n",
    "\n",
    "print(eval_values)\n",
    "print(values)"
   ]
  },
  {
   "cell_type": "code",
   "execution_count": 102,
   "metadata": {},
   "outputs": [
    {
     "data": {
      "text/plain": [
       "array([ 477,  362, 4234, 4061, 2809, 4355, 3469, 5587, 6049, 3953])"
      ]
     },
     "execution_count": 102,
     "metadata": {},
     "output_type": "execute_result"
    }
   ],
   "source": [
    "np.argsort(policy_logits)[0][::-1][:10]"
   ]
  },
  {
   "cell_type": "code",
   "execution_count": null,
   "metadata": {},
   "outputs": [],
   "source": []
  },
  {
   "cell_type": "code",
   "execution_count": 103,
   "metadata": {},
   "outputs": [],
   "source": [
    "run.close()"
   ]
  },
  {
   "cell_type": "code",
   "execution_count": null,
   "metadata": {},
   "outputs": [],
   "source": []
  }
 ],
 "metadata": {
  "kernelspec": {
   "display_name": "Python 3",
   "language": "python",
   "name": "python3"
  },
  "language_info": {
   "codemirror_mode": {
    "name": "ipython",
    "version": 3
   },
   "file_extension": ".py",
   "mimetype": "text/x-python",
   "name": "python",
   "nbconvert_exporter": "python",
   "pygments_lexer": "ipython3",
   "version": "3.11.3"
  }
 },
 "nbformat": 4,
 "nbformat_minor": 2
}
