{
 "cells": [
  {
   "cell_type": "code",
   "execution_count": 7,
   "metadata": {},
   "outputs": [
    {
     "name": "stdout",
     "output_type": "stream",
     "text": [
      "Loading file: piece_indices\n",
      "Loading file: rotation_mapping\n",
      "Loading file: new_occupieds\n",
      "Loading file: moves_ruled_out_for_all\n",
      "Loading file: scores\n",
      "Loading file: moves_ruled_out_for_player\n",
      "Loading file: moves_enabled_for_player\n",
      "Loading file: new_adjacents\n",
      "Loading file: new_corners\n",
      "Number of moves: 6233\n",
      "Board size: 10\n"
     ]
    },
    {
     "data": {
      "text/plain": [
       "''"
      ]
     },
     "execution_count": 7,
     "metadata": {},
     "output_type": "execute_result"
    }
   ],
   "source": [
    "import sys\n",
    "import pickle\n",
    "import numpy as np\n",
    "\n",
    "sys.path.append(\"../src\")\n",
    "\n",
    "import constants as constants\n",
    "constants.load(\"../data/moves_10\", True)\n",
    "\n",
    "from display import Display\n",
    "\n",
    "\"\""
   ]
  },
  {
   "cell_type": "code",
   "execution_count": 9,
   "metadata": {},
   "outputs": [],
   "source": [
    "key = \"1728948518664\"\n",
    "dir = \"self_play_4\"\n",
    "\n",
    "children_visit_distributions = np.load(f\"../data/{dir}/children_visit_distributions_{key}.npy\")\n",
    "occupancies = np.load(f\"../data/{dir}/occupancies_{key}.npy\")\n",
    "values = np.load(f\"../data/{dir}/values_{key}.npy\")\n",
    "states = pickle.load(open(f\"../data/{dir}/states_{key}.pkl\", \"rb\"))"
   ]
  },
  {
   "cell_type": "code",
   "execution_count": 24,
   "metadata": {},
   "outputs": [
    {
     "name": "stdout",
     "output_type": "stream",
     "text": [
      "[0. 0. 1. 0.]\n",
      "[0 0 0 5]\n"
     ]
    },
    {
     "data": {
      "image/png": "[encoded data removed]",
      "text/plain": [
       "<Figure size 640x480 with 1 Axes>"
      ]
     },
     "metadata": {},
     "output_type": "display_data"
    },
    {
     "data": {
      "image/png": "[encoded data removed]",
      "text/plain": [
       "<Figure size 640x480 with 1 Axes>"
      ]
     },
     "metadata": {},
     "output_type": "display_data"
    }
   ],
   "source": [
    "index = 26\n",
    "\n",
    "move_visit_distributions = children_visit_distributions[index]\n",
    "move_occupancies = occupancies[index]\n",
    "move_values = values[index]\n",
    "state = states[index]\n",
    "\n",
    "selected_move_index = np.argmax(move_visit_distributions)\n",
    "\n",
    "print(move_values)\n",
    "print(np.sum(move_occupancies, axis=(1, 2)))\n",
    "\n",
    "Display(move_occupancies, constants.MOVES[\"new_occupieds\"][selected_move_index]).show()\n",
    "\n",
    "state.pretty_print_board()"
   ]
  },
  {
   "cell_type": "code",
   "execution_count": null,
   "metadata": {},
   "outputs": [],
   "source": []
  }
 ],
 "metadata": {
  "kernelspec": {
   "display_name": "Python 3",
   "language": "python",
   "name": "python3"
  },
  "language_info": {
   "codemirror_mode": {
    "name": "ipython",
    "version": 3
   },
   "file_extension": ".py",
   "mimetype": "text/x-python",
   "name": "python",
   "nbconvert_exporter": "python",
   "pygments_lexer": "ipython3",
   "version": "3.11.3"
  }
 },
 "nbformat": 4,
 "nbformat_minor": 2
}
