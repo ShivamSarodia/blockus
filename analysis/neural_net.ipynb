{
 "cells": [
  {
   "cell_type": "code",
   "execution_count": 1,
   "metadata": {},
   "outputs": [
    {
     "name": "stderr",
     "output_type": "stream",
     "text": [
      "Torch version 2.5.1 has not been tested with coremltools. You may run into unexpected errors. Torch 2.4.0 is the most recent version that has been tested.\n"
     ]
    },
    {
     "name": "stdout",
     "output_type": "stream",
     "text": [
      "Loaded config:  {\"development\": {\"debug_mode\": true, \"profile\": false, \"runtime\": 120, \"display_logs_in_console\": false, \"output_directory\": \"data/\"}, \"game\": {\"board_size\": 10, \"num_moves\": 6233, \"moves_directory\": \"../data/moves_10/\"}, \"network\": {\"main_body_channels\": 64, \"value_head_channels\": 16, \"value_head_flat_layer_width\": 64, \"policy_head_channels\": 64, \"residual_blocks\": 8}, \"architecture\": {\"gameplay_processes\": 6, \"coroutines_per_process\": 256, \"inference_batch_size\": 128}, \"mcts\": {\"num_rollouts\": 500, \"ucb_exploration\": 1.4, \"ucb_default_child_value\": 0.25, \"root_dirichlet_alpha\": 0.03, \"root_exploration_fraction\": 0.25}}\n",
      "Loading file: piece_indices\n",
      "Loading file: rotation_mapping\n",
      "Loading file: new_occupieds\n",
      "Loading file: moves_ruled_out_for_all\n",
      "Loading file: scores\n",
      "Loading file: moves_ruled_out_for_player\n",
      "Loading file: moves_enabled_for_player\n",
      "Loading file: new_adjacents\n",
      "Loading file: new_corners\n"
     ]
    },
    {
     "data": {
      "text/plain": [
       "''"
      ]
     },
     "execution_count": 1,
     "metadata": {},
     "output_type": "execute_result"
    }
   ],
   "source": [
    "import os\n",
    "import sys\n",
    "import pickle\n",
    "import numpy as np\n",
    "import torch \n",
    "from tqdm import tqdm\n",
    "import coremltools\n",
    "\n",
    "os.environ[\"CONFIG_PATHS\"] = \"../configs/small_model.toml,../configs/notebook_overrides.toml\"\n",
    "sys.path.append(\"../src\")\n",
    "\n",
    "import neural_net\n",
    "from configuration import config\n",
    "from neural_net import NeuralNet, ResidualBlock\n",
    "import player_pov_helpers\n",
    "\n",
    "\"\""
   ]
  },
  {
   "cell_type": "code",
   "execution_count": 2,
   "metadata": {},
   "outputs": [],
   "source": [
    "BOARD_SIZE = config()[\"game\"][\"board_size\"]"
   ]
  },
  {
   "cell_type": "code",
   "execution_count": 3,
   "metadata": {},
   "outputs": [],
   "source": [
    "def model_size(model):\n",
    "    model_parameters = filter(lambda p: p.requires_grad, model.parameters())\n",
    "    return sum(p.numel() for p in model_parameters)\n",
    "    # return sum([np.prod(p.size()) for p in model_parameters])\n",
    "    # return sum(p.numel() for p in model.parameters())"
   ]
  },
  {
   "cell_type": "code",
   "execution_count": 4,
   "metadata": {},
   "outputs": [],
   "source": [
    "import time\n",
    "\n",
    "def time_per_eval(num_evaluations, batch_size, model):\n",
    "    num_batches = num_evaluations // batch_size\n",
    "    num_evaluations = num_batches * batch_size\n",
    "\n",
    "    random_arrays = np.random.random((num_batches, batch_size, 4, BOARD_SIZE, BOARD_SIZE))\n",
    "    print(\"Starting...\")\n",
    "\n",
    "    start = time.perf_counter()\n",
    "    for i in range(num_batches):\n",
    "        occupancies = torch.from_numpy(random_arrays[i]).to(device=\"mps\", dtype=torch.float32)\n",
    "        model(occupancies)\n",
    "    elapsed = time.perf_counter() - start\n",
    "\n",
    "    return elapsed / (num_batches * batch_size)"
   ]
  },
  {
   "cell_type": "code",
   "execution_count": 5,
   "metadata": {},
   "outputs": [
    {
     "name": "stdout",
     "output_type": "stream",
     "text": [
      "Model size: 8\n"
     ]
    }
   ],
   "source": [
    "model = NeuralNet()\n",
    "model_size(model)\n",
    "print(\"Model size:\", len(model.residual_blocks))"
   ]
  },
  {
   "cell_type": "code",
   "execution_count": 6,
   "metadata": {},
   "outputs": [
    {
     "name": "stderr",
     "output_type": "stream",
     "text": [
      "/Users/shivamsarodia/.pyenv/versions/3.11.3/lib/python3.11/site-packages/onnxscript/converter.py:820: FutureWarning: 'onnxscript.values.Op.param_schemas' is deprecated in version 0.1 and will be removed in the future. Please use '.op_signature' instead.\n",
      "  param_schemas = callee.param_schemas()\n",
      "/Users/shivamsarodia/.pyenv/versions/3.11.3/lib/python3.11/site-packages/onnxscript/converter.py:820: FutureWarning: 'onnxscript.values.OnnxFunction.param_schemas' is deprecated in version 0.1 and will be removed in the future. Please use '.op_signature' instead.\n",
      "  param_schemas = callee.param_schemas()\n",
      "When both 'convert_to' and 'minimum_deployment_target' not specified, 'convert_to' is set to \"mlprogram\" and 'minimum_deployment_target' is set to ct.target.iOS15 (which is same as ct.target.macOS12). Note: the model will not run on systems older than iOS15/macOS12/watchOS8/tvOS15. In order to make your model run on older system, please set the 'minimum_deployment_target' to iOS14/iOS13. Details please see the link: https://apple.github.io/coremltools/docs-guides/source/target-conversion-formats.html\n",
      "Converting PyTorch Frontend ==> MIL Ops:  99%|█████████▉| 89/90 [00:00<00:00, 5202.18 ops/s]\n",
      "Running MIL frontend_pytorch pipeline: 100%|██████████| 5/5 [00:00<00:00, 528.82 passes/s]\n",
      "Running MIL default pipeline: 100%|██████████| 86/86 [00:00<00:00, 395.12 passes/s]\n",
      "Running MIL backend_mlprogram pipeline: 100%|██████████| 12/12 [00:00<00:00, 873.75 passes/s]\n"
     ]
    }
   ],
   "source": [
    "model.eval()\n",
    "example_inputs = (torch.rand(16, 4, BOARD_SIZE, BOARD_SIZE),)\n",
    "exported_program = torch.export.export(model, example_inputs)\n",
    "model_from_export = coremltools.convert(exported_program, compute_precision=coremltools.precision.FLOAT32)"
   ]
  },
  {
   "cell_type": "code",
   "execution_count": 7,
   "metadata": {},
   "outputs": [],
   "source": [
    "def time_per_eval_coreml(num_evaluations, batch_size, model):\n",
    "    num_batches = num_evaluations // batch_size\n",
    "    num_evaluations = num_batches * batch_size\n",
    "\n",
    "    random_arrays = np.random.random((num_batches, batch_size, 4, BOARD_SIZE, BOARD_SIZE))\n",
    "\n",
    "    print(\"Starting...\")\n",
    "    start = time.perf_counter()\n",
    "    for i in range(num_batches):\n",
    "        model.predict({\"occupancies\": random_arrays[i]})\n",
    "    elapsed = time.perf_counter() - start\n",
    "\n",
    "    return elapsed / (num_batches * batch_size)"
   ]
  },
  {
   "cell_type": "code",
   "execution_count": 8,
   "metadata": {},
   "outputs": [
    {
     "name": "stdout",
     "output_type": "stream",
     "text": [
      "Starting...\n"
     ]
    },
    {
     "data": {
      "text/plain": [
       "6.513175240413078e-05"
      ]
     },
     "execution_count": 8,
     "metadata": {},
     "output_type": "execute_result"
    }
   ],
   "source": [
    "time_per_eval(\n",
    "    num_evaluations=10000,\n",
    "    batch_size=128,\n",
    "    model=model.to(\"mps\"),\n",
    ")"
   ]
  },
  {
   "cell_type": "code",
   "execution_count": 11,
   "metadata": {},
   "outputs": [
    {
     "name": "stdout",
     "output_type": "stream",
     "text": [
      "Starting...\n"
     ]
    },
    {
     "data": {
      "text/plain": [
       "0.000142201141701662"
      ]
     },
     "execution_count": 11,
     "metadata": {},
     "output_type": "execute_result"
    }
   ],
   "source": [
    "time_per_eval_coreml(\n",
    "    num_evaluations=10000,\n",
    "    batch_size=16,\n",
    "    model=model_from_export,\n",
    ")"
   ]
  },
  {
   "cell_type": "code",
   "execution_count": null,
   "metadata": {},
   "outputs": [],
   "source": []
  }
 ],
 "metadata": {
  "kernelspec": {
   "display_name": "Python 3",
   "language": "python",
   "name": "python3"
  },
  "language_info": {
   "codemirror_mode": {
    "name": "ipython",
    "version": 3
   },
   "file_extension": ".py",
   "mimetype": "text/x-python",
   "name": "python",
   "nbconvert_exporter": "python",
   "pygments_lexer": "ipython3",
   "version": "3.11.3"
  }
 },
 "nbformat": 4,
 "nbformat_minor": 2
}
