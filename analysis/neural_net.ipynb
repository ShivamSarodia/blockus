{
 "cells": [
  {
   "cell_type": "code",
   "execution_count": 1,
   "metadata": {},
   "outputs": [
    {
     "name": "stdout",
     "output_type": "stream",
     "text": [
      "Loaded config:  {\"development\": {\"debug_mode\": true, \"profile\": false, \"runtime\": 36000, \"display_logs_in_console\": false, \"output_directory\": \"data/\"}, \"game\": {\"board_size\": 10, \"num_moves\": 6233, \"moves_directory\": \"../data/moves_10/\"}, \"network\": {\"main_body_channels\": 64, \"value_head_channels\": 16, \"value_head_flat_layer_width\": 64, \"policy_head_channels\": 64, \"residual_blocks\": 8}, \"architecture\": {\"gameplay_processes\": 6, \"coroutines_per_process\": 256, \"inference_batch_size\": 128}, \"mcts\": {\"full_move_probability\": 0.2, \"full_move_rollouts\": 500, \"fast_move_rollouts\": 100, \"ucb_exploration\": 1.4, \"root_dirichlet_alpha\": 0.03, \"root_exploration_fraction\": 0.25}}\n",
      "Loading file: piece_indices\n",
      "Loading file: rotation_mapping\n",
      "Loading file: new_occupieds\n",
      "Loading file: moves_ruled_out_for_all\n",
      "Loading file: scores\n",
      "Loading file: moves_ruled_out_for_player\n",
      "Loading file: moves_enabled_for_player\n",
      "Loading file: new_adjacents\n",
      "Loading file: new_corners\n"
     ]
    },
    {
     "data": {
      "text/plain": [
       "''"
      ]
     },
     "execution_count": 1,
     "metadata": {},
     "output_type": "execute_result"
    }
   ],
   "source": [
    "import os\n",
    "import sys\n",
    "import pickle\n",
    "import numpy as np\n",
    "import torch \n",
    "from torch import nn\n",
    "from tqdm import tqdm\n",
    "\n",
    "os.environ[\"CONFIG_PATHS\"] = \"../configs/small_model.toml,../configs/notebook_overrides.toml\"\n",
    "# os.environ[\"CONFIG_OVERRIDES\"] = \"network.policy_head_channels=128\"\n",
    "sys.path.append(\"../src\")\n",
    "\n",
    "import neural_net\n",
    "from configuration import config\n",
    "from neural_net import NeuralNet, ResidualBlock\n",
    "import player_pov_helpers\n",
    "\n",
    "\"\""
   ]
  },
  {
   "cell_type": "code",
   "execution_count": 2,
   "metadata": {},
   "outputs": [],
   "source": [
    "BOARD_SIZE = config()[\"game\"][\"board_size\"]"
   ]
  },
  {
   "cell_type": "code",
   "execution_count": 3,
   "metadata": {},
   "outputs": [],
   "source": [
    "def model_size(model):\n",
    "    model_parameters = filter(lambda p: p.requires_grad, model.parameters())\n",
    "    return sum(p.numel() for p in model_parameters)"
   ]
  },
  {
   "cell_type": "code",
   "execution_count": 4,
   "metadata": {},
   "outputs": [],
   "source": [
    "import time\n",
    "\n",
    "def time_per_eval(num_evaluations, batch_size, model):\n",
    "    num_batches = num_evaluations // batch_size\n",
    "    num_evaluations = num_batches * batch_size\n",
    "\n",
    "    random_arrays = np.random.random((num_batches, batch_size, 4, BOARD_SIZE, BOARD_SIZE))\n",
    "    print(\"Starting...\")\n",
    "\n",
    "    start = time.perf_counter()\n",
    "    for i in range(num_batches):\n",
    "        occupancies = torch.from_numpy(random_arrays[i]).to(device=\"mps\", dtype=torch.float32)\n",
    "        model(occupancies)\n",
    "    elapsed = time.perf_counter() - start\n",
    "\n",
    "    return elapsed / (num_batches * batch_size)"
   ]
  },
  {
   "cell_type": "code",
   "execution_count": 5,
   "metadata": {},
   "outputs": [
    {
     "name": "stdout",
     "output_type": "stream",
     "text": [
      "Model size: 8\n"
     ]
    }
   ],
   "source": [
    "model = NeuralNet()\n",
    "model_size(model)\n",
    "print(\"Model size:\", len(model.residual_blocks))"
   ]
  },
  {
   "cell_type": "code",
   "execution_count": 6,
   "metadata": {},
   "outputs": [
    {
     "name": "stdout",
     "output_type": "stream",
     "text": [
      "Starting...\n"
     ]
    },
    {
     "data": {
      "text/plain": [
       "7.263044621816871e-05"
      ]
     },
     "execution_count": 6,
     "metadata": {},
     "output_type": "execute_result"
    }
   ],
   "source": [
    "time_per_eval(\n",
    "    num_evaluations=100000000000,\n",
    "    batch_size=128,\n",
    "    model=model.to(\"mps\"),\n",
    ")"
   ]
  },
  {
   "cell_type": "code",
   "execution_count": 7,
   "metadata": {},
   "outputs": [
    {
     "ename": "NameError",
     "evalue": "name 'time_per_eval_coreml' is not defined",
     "output_type": "error",
     "traceback": [
      "\u001b[0;31m---------------------------------------------------------------------------\u001b[0m",
      "\u001b[0;31mNameError\u001b[0m                                 Traceback (most recent call last)",
      "Cell \u001b[0;32mIn[7], line 1\u001b[0m\n\u001b[0;32m----> 1\u001b[0m \u001b[43mtime_per_eval_coreml\u001b[49m(\n\u001b[1;32m      2\u001b[0m     num_evaluations\u001b[38;5;241m=\u001b[39m\u001b[38;5;241m10000\u001b[39m,\n\u001b[1;32m      3\u001b[0m     batch_size\u001b[38;5;241m=\u001b[39m\u001b[38;5;241m16\u001b[39m,\n\u001b[1;32m      4\u001b[0m     model\u001b[38;5;241m=\u001b[39mmodel_from_export,\n\u001b[1;32m      5\u001b[0m )\n",
      "\u001b[0;31mNameError\u001b[0m: name 'time_per_eval_coreml' is not defined"
     ]
    }
   ],
   "source": [
    "time_per_eval_coreml(\n",
    "    num_evaluations=10000,\n",
    "    batch_size=16,\n",
    "    model=model_from_export,\n",
    ")"
   ]
  },
  {
   "cell_type": "code",
   "execution_count": null,
   "metadata": {},
   "outputs": [],
   "source": []
  }
 ],
 "metadata": {
  "kernelspec": {
   "display_name": "Python 3",
   "language": "python",
   "name": "python3"
  },
  "language_info": {
   "codemirror_mode": {
    "name": "ipython",
    "version": 3
   },
   "file_extension": ".py",
   "mimetype": "text/x-python",
   "name": "python",
   "nbconvert_exporter": "python",
   "pygments_lexer": "ipython3",
   "version": "3.11.3"
  }
 },
 "nbformat": 4,
 "nbformat_minor": 2
}
