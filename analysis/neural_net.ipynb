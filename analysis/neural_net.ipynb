{
 "cells": [
  {
   "cell_type": "code",
   "execution_count": 11,
   "metadata": {},
   "outputs": [
    {
     "data": {
      "text/plain": [
       "''"
      ]
     },
     "execution_count": 11,
     "metadata": {},
     "output_type": "execute_result"
    }
   ],
   "source": [
    "import os\n",
    "import sys\n",
    "import pickle\n",
    "import numpy as np\n",
    "import torch \n",
    "\n",
    "os.environ[\"CONFIG_PATH\"] = \"../configs/default.toml\"\n",
    "sys.path.append(\"../src\")\n",
    "\n",
    "import neural_net\n",
    "from configuration import config\n",
    "from neural_net import NeuralNet, ResidualBlock\n",
    "\n",
    "\"\""
   ]
  },
  {
   "cell_type": "code",
   "execution_count": 12,
   "metadata": {},
   "outputs": [],
   "source": [
    "BOARD_SIZE = config()[\"game\"][\"board_size\"]"
   ]
  },
  {
   "cell_type": "code",
   "execution_count": 8,
   "metadata": {},
   "outputs": [
    {
     "data": {
      "text/plain": [
       "85842749"
      ]
     },
     "execution_count": 8,
     "metadata": {},
     "output_type": "execute_result"
    }
   ],
   "source": [
    "model = NeuralNet().to(\"mps\")\n",
    "model_parameters = filter(lambda p: p.requires_grad, model.parameters())\n",
    "sum([np.prod(p.size()) for p in model_parameters])"
   ]
  },
  {
   "cell_type": "code",
   "execution_count": 27,
   "metadata": {},
   "outputs": [],
   "source": [
    "import time\n",
    "\n",
    "def time_per_eval(num_evaluations, batch_size):\n",
    "    num_batches = num_evaluations // batch_size\n",
    "    num_evaluations = num_batches * batch_size\n",
    "\n",
    "    random_arrays = np.random.random((num_batches, batch_size, 4, BOARD_SIZE, BOARD_SIZE))\n",
    "    print(\"Starting...\")\n",
    "\n",
    "    start = time.perf_counter()\n",
    "    for i in range(num_batches):\n",
    "        occupancies = torch.from_numpy(random_arrays[i]).to(dtype=torch.float, device=\"mps\")\n",
    "        model(occupancies)\n",
    "    elapsed = time.perf_counter() - start\n",
    "\n",
    "    return elapsed / (num_batches * batch_size)"
   ]
  },
  {
   "cell_type": "code",
   "execution_count": 67,
   "metadata": {},
   "outputs": [
    {
     "name": "stdout",
     "output_type": "stream",
     "text": [
      "Starting...\n"
     ]
    },
    {
     "data": {
      "text/plain": [
       "0.21635593113439305"
      ]
     },
     "execution_count": 67,
     "metadata": {},
     "output_type": "execute_result"
    }
   ],
   "source": [
    "# Time per move:\n",
    "500 * time_per_eval(\n",
    "    num_evaluations=5000,\n",
    "    batch_size=57,\n",
    ")"
   ]
  },
  {
   "cell_type": "code",
   "execution_count": null,
   "metadata": {},
   "outputs": [],
   "source": []
  },
  {
   "cell_type": "code",
   "execution_count": 4,
   "metadata": {},
   "outputs": [],
   "source": [
    "import torch.nn as nn\n",
    "import torch.nn.functional as F"
   ]
  },
  {
   "cell_type": "code",
   "execution_count": 5,
   "metadata": {},
   "outputs": [
    {
     "data": {
      "text/plain": [
       "tensor(0.4411)"
      ]
     },
     "execution_count": 5,
     "metadata": {},
     "output_type": "execute_result"
    }
   ],
   "source": [
    "nn.CrossEntropyLoss()(\n",
    "    torch.tensor([[1.0, 5.0, 3.0]]),\n",
    "    F.softmax(torch.tensor([[1.0, 5.0, 3.0]]), dim=1),\n",
    ")"
   ]
  },
  {
   "cell_type": "code",
   "execution_count": 6,
   "metadata": {},
   "outputs": [
    {
     "data": {
      "text/plain": [
       "tensor(0.4411)"
      ]
     },
     "execution_count": 6,
     "metadata": {},
     "output_type": "execute_result"
    }
   ],
   "source": [
    "nn.CrossEntropyLoss(reduction=\"mean\")(\n",
    "    torch.tensor([\n",
    "        [1.0, 5.0, 3.0],\n",
    "        [1.0, 5.0, 3.0],\n",
    "    ]),\n",
    "    F.softmax(torch.tensor([\n",
    "        [1.0, 5.0, 3.0],\n",
    "        [1.0, 5.0, 3.0]\n",
    "    ]), dim=1),\n",
    ")"
   ]
  },
  {
   "cell_type": "code",
   "execution_count": 13,
   "metadata": {},
   "outputs": [
    {
     "name": "stdout",
     "output_type": "stream",
     "text": [
      "Starting tree search\n",
      "Got board to evaluate: board_0\n",
      "Got board to evaluate: board_1\n",
      "Got board to evaluate: board_2\n",
      "Got board to evaluate: board_3\n",
      "Done with tree search. Got results: ['result_of_evaluating_board_0', 'result_of_evaluating_board_1', 'result_of_evaluating_board_2', 'result_of_evaluating_board_3']\n"
     ]
    }
   ],
   "source": [
    "def myFunc():\n",
    "    print(\"Starting tree search\")\n",
    "    results = []\n",
    "    for i in range(4):\n",
    "        result = yield f\"board_{i}\"\n",
    "        results.append(result)\n",
    "    print(\"Done with tree search. Got results:\", results)\n",
    "\n",
    "generators = {\n",
    "    \"generator_1\": myFunc(),\n",
    "    \"generator_2\": myFunc(),\n",
    "}\n",
    "\n",
    "# Have any new board evaluation results come in on the processing queue?\n",
    "# If so, send them to the appropriate thread.\n",
    "while True:\n",
    "    socket_data = socket.get()\n",
    "    if socket_data is None:\n",
    "        # There's nothing to do -- add a new thread!\n",
    "        generators[\"generator_3\"] = myFunc()\n",
    "        socket.send(next(generators[\"generator_3\"]))\n",
    "\n",
    "    thread_id, result = socket_data\n",
    "\n",
    "    try:\n",
    "        occupancies = generators[thread_id].send(result)\n",
    "    except StopIteration as e:\n",
    "        del generators[thread_id]\n",
    "\n",
    "    socket.send(occupancies)"
   ]
  },
  {
   "cell_type": "code",
   "execution_count": null,
   "metadata": {},
   "outputs": [],
   "source": []
  }
 ],
 "metadata": {
  "kernelspec": {
   "display_name": "Python 3",
   "language": "python",
   "name": "python3"
  },
  "language_info": {
   "codemirror_mode": {
    "name": "ipython",
    "version": 3
   },
   "file_extension": ".py",
   "mimetype": "text/x-python",
   "name": "python",
   "nbconvert_exporter": "python",
   "pygments_lexer": "ipython3",
   "version": "3.11.3"
  }
 },
 "nbformat": 4,
 "nbformat_minor": 2
}
